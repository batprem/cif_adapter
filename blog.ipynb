{
 "cells": [
  {
   "cell_type": "markdown",
   "source": "# Greeting",
   "metadata": {
    "tags": [],
    "is_collapsed": false,
    "cell_id": "00000-59615542-f2eb-446e-b2d8-e29dde5fca2d",
    "deepnote_cell_type": "text-cell-h1"
   }
  },
  {
   "cell_type": "markdown",
   "source": "หลายคนที่เป็น Data Scientist มักจะไม่ค่อยใช้ Design pattern มากเท่าไหร่ เพราะ การทำ Design pattern ดูเหมือนจะเรื่องของ Software engineer และจำเป็นต้องมีความเข้าใจเรื่อง OOP เลยทำให้เหมือนมีความซับซ้อนระดับหนึ่ง\n<br/><br/>\nแต่จากประสบการณ์การเป็น Data Scientist เกือบสองปี การเสียเวลาทำ Design pattern สักนิด ไม่เพียงแต่จะให้ code ของคุณดูโปรมากขึ้นแล้ว แต่ยังเป็นการลดความขัดแย้งกันระหว่างทีมอื่น เช่น Python devoloper, Data engineer, DevOps หรือ แม้แต่ตัวคุณเองใ่นอนาคตด้วย\n<br/><br/>\nและขอบอกกง ๆ OOP ใน Python มีความเมตตาปราณีมากกว่าภาษาอื่นเยอะเลยนะครับ\n<br/><br/>\nซั่งใน blog นี้จะสาธิตวิธีการใช้ design pattern ที่ชื่อว่า Adapter มาจัดการไฟล์ Crystallographic Information Framework (CIF) จากการแข่ง TMLCC กันครับ\n\n<center>\n<img src=\"/work/assets/images/TMLCC_Logo.4bbf95cb.png\"></img>\nรูปจาก https://tmlcc.cseathai.org/\n<center>\n",
   "metadata": {
    "tags": [],
    "cell_id": "00001-d4edfa47-6fd0-427b-9b1e-1b6425e65229",
    "deepnote_cell_type": "markdown"
   }
  },
  {
   "cell_type": "markdown",
   "source": "# Adapter",
   "metadata": {
    "tags": [],
    "is_collapsed": false,
    "cell_id": "00002-b694b1f8-18bb-4d6b-8c64-7d6ee67ae045",
    "deepnote_cell_type": "text-cell-h1"
   }
  },
  {
   "cell_type": "markdown",
   "source": "<center>\n<img src=\"/work/assets/images/adapter-mini-2x.png\"></img>\nรูปจาก https://refactoring.guru/design-patterns/python\n<center>\n",
   "metadata": {
    "tags": [],
    "cell_id": "00003-dc1f2d88-b274-4c21-85be-d9181c2fe00d",
    "deepnote_cell_type": "markdown"
   }
  },
  {
   "cell_type": "markdown",
   "source": "## Start with problem",
   "metadata": {
    "tags": [],
    "is_collapsed": false,
    "cell_id": "00004-fc05c0d9-2c5b-4b1c-9bc4-099b2923a293",
    "deepnote_cell_type": "text-cell-h2"
   }
  },
  {
   "cell_type": "markdown",
   "source": "<center>\n<img src=\"/work/assets/images/problem-en-2x.png\"></img>\n</center>",
   "metadata": {
    "tags": [],
    "cell_id": "00005-66a95c12-9448-49dc-a00c-adc46a04b7a7",
    "deepnote_cell_type": "markdown"
   }
  },
  {
   "cell_type": "markdown",
   "source": "เว็บไซต์ refactoring.guru ได้บอกถึงปัญหาของการเขียน code ว่า เรามีได้เขียน `Analyics Library` เพื่อประมวณผลราคาหุ้น ซึ่งจะรับข้อมูลใน format ของ JSON ซึ่งเป็น format ที่โบร๊คเกอร์ส่วนใหญ่ใช้กัน วันดีคืนดีดันมีลูกค้ามาขอใช้บริการ `Analyics Library` ของเราด้วย แ่ต่ API ที่ทาง broker เจ้าใหม่ ดันส่งข้อมูลที่มี format เป็น XML ซึ่งไม่เข้ากับ library เรา\n<br/><br/>\nดังันั้นสิ่งที่เราต้องทำต้องทำ library ของเรา รองรับกับ data structure ของลูกค้าคนเจ้าใหม่\n<br/><br/>\n***ปัญหา คือ***\n\nเราควรแก้ code ที่ส่วนไหนดี ถ้าแก้ที่ `Analyics Library` ก็อาจจะไปกระทบกับูกค้าเจ้าอื่น และถ้าโตรงสร้างของ XML มีการเปลี่ยนแปลงในอนาคต การแก้ก็จะทำได้ยาก ลองนึกภาพว่า `Analyics Library` มี code ยั่วเยี้ยนไปหมด ถ้าจะแก้ทีคงไม่รู้จะแก้จกากจุดไหน",
   "metadata": {
    "tags": [],
    "cell_id": "00006-d28ae142-e0eb-4a19-b731-5236ebb4b390",
    "deepnote_cell_type": "markdown"
   }
  },
  {
   "cell_type": "markdown",
   "source": "## End with solution!",
   "metadata": {
    "tags": [],
    "is_collapsed": false,
    "cell_id": "00007-218df393-fd56-439c-9f9f-8006733764ca",
    "deepnote_cell_type": "text-cell-h2"
   }
  },
  {
   "cell_type": "markdown",
   "source": "<center>\n<img src=\"/work/assets/images/solution-en-2x.png\"></img>\n</center>",
   "metadata": {
    "tags": [],
    "cell_id": "00008-70f54770-cd86-4a94-95a9-8b14565f8f0e",
    "deepnote_cell_type": "markdown"
   }
  },
  {
   "cell_type": "markdown",
   "source": "ทางเว็บ refactoring.guru ได้แนะนำวิธีการแก้ปัญหา เร่าจะเขียน class ที่มีชื่อว่า `Adapter` เพื่อมาเป็นตัวกลางในการแปลงข้อมูลระหว่างสองส่วนนี้\n<br/><br/>\nวิธีจะไม่ทำให้กระทบ service หลักของเรา และถ้าโครงสร้างข้อมูลมีการเปลี่ยนแปลงในอนาคต เราก็แค่มาแก้ที่จุดเดียวไปเลย",
   "metadata": {
    "tags": [],
    "cell_id": "00008-ad072806-0a9c-42c2-948e-c85489c0cfc1",
    "deepnote_cell_type": "markdown"
   }
  },
  {
   "cell_type": "markdown",
   "source": "## Apply to CIF",
   "metadata": {
    "tags": [],
    "is_collapsed": false,
    "cell_id": "00010-9d1cb83d-1105-4998-9ae1-51da6d7316c2",
    "deepnote_cell_type": "text-cell-h2"
   }
  },
  {
   "cell_type": "markdown",
   "source": "<center><img src=\"/work/assets/images/Screenshot 2564-10-01 at 00.59.53.png\"></img></center>",
   "metadata": {
    "tags": [],
    "cell_id": "00011-c97bee33-e1f1-4339-bcdd-c2cabc0b7d59",
    "deepnote_cell_type": "markdown"
   }
  },
  {
   "cell_type": "markdown",
   "source": "Crystallographic Information Framework เป็นโครงสร้างข้อมูลของโมเลกุล ที่ถูกออกแบบ software สามารถประมวลผล และแสดงผล รูปร่างของผลึกทางเคมีของโมเลกุลนั้น ๆ ได้ โดยข้อมูลจะมีลักษณะเป็นโครงสร้างคล้าย YAML หรือ XML\n<br/><br/>\nในการทำ adapter เราจะแปลงให้ CIF ไปดูในรูปของ Pandas DataFrame object บน Python เพื่อให้ง่ายต่อการคำนวณ",
   "metadata": {
    "tags": [],
    "cell_id": "00011-962bb473-6156-483e-a2e1-2b87b2af67de",
    "deepnote_cell_type": "markdown"
   }
  },
  {
   "cell_type": "markdown",
   "source": "# Let's code!",
   "metadata": {
    "tags": [],
    "is_collapsed": false,
    "cell_id": "00013-850938f6-7947-4e93-8d5f-d92db0bdf4d0",
    "deepnote_cell_type": "text-cell-h1"
   }
  },
  {
   "cell_type": "markdown",
   "source": "## Import modules",
   "metadata": {
    "tags": [],
    "is_collapsed": false,
    "cell_id": "00014-9542b4f2-48bc-413d-9214-e1e13bfc34bf",
    "deepnote_cell_type": "text-cell-h2"
   }
  },
  {
   "cell_type": "code",
   "metadata": {
    "tags": [],
    "cell_id": "00000-7255a9cf-6817-42a0-af7a-e56da8cf92a9",
    "deepnote_to_be_reexecuted": false,
    "source_hash": "d4f2a701",
    "execution_start": 1633027415228,
    "execution_millis": 44,
    "deepnote_cell_type": "code"
   },
   "source": "# OS command\nimport os\n\n# Sure, we need `pandas`\nimport pandas as pd\n\n# Typing\nfrom typing import (\n    List,\n    Tuple\n)\n\n# Abstract classes we're going to use them  in the section\nfrom abc import ABC, abstractmethod\n\n# Base model\nfrom pydantic import BaseModel",
   "outputs": [],
   "execution_count": 1
  },
  {
   "cell_type": "markdown",
   "source": "## Abstract Adapter",
   "metadata": {
    "tags": [],
    "is_collapsed": false,
    "cell_id": "00016-466cd532-76dc-482a-9e74-9f73d63fa69b",
    "deepnote_cell_type": "text-cell-h2"
   }
  },
  {
   "cell_type": "code",
   "source": "class AbstractAdapter(ABC):\n    @abstractmethod\n    def extract(self):\n        \"\"\"\n        Extract input data\n        \"\"\"\n\n    def tranform(self):\n        \"\"\"\n        Tranformed data into desired format\n        \"\"\"\n\n    def load(self):\n        \"\"\"\n        Load data to next step\n        \"\"\"\n\n    @abstractmethod\n    def apply(self):\n        \"\"\"\n        Apply data ETL process\n        \"\"\"\n        pass\n",
   "metadata": {
    "tags": [],
    "cell_id": "00017-ad50b9d1-e276-41f4-9c66-708294049a9c",
    "deepnote_to_be_reexecuted": false,
    "source_hash": "8fd0e5cd",
    "execution_start": 1633027415278,
    "execution_millis": 3,
    "deepnote_cell_type": "code"
   },
   "outputs": [],
   "execution_count": 2
  },
  {
   "cell_type": "markdown",
   "source": "Abstract class ข้างบนจะบอก adapter process โดยภาพรวมนะครับ โดยผมเขียนให้อยู่ในรูปของ ETL เพื่อให้เข้ากับหลัก Data engineer",
   "metadata": {
    "tags": [],
    "cell_id": "00018-9de436da-3831-44e4-b1ef-ec3f88c62507",
    "deepnote_cell_type": "markdown"
   }
  },
  {
   "cell_type": "markdown",
   "source": "## CIF Adapter",
   "metadata": {
    "tags": [],
    "is_collapsed": false,
    "cell_id": "00019-4af67ea9-f0e7-4df2-8491-6299c1adf91f",
    "deepnote_cell_type": "text-cell-h2"
   }
  },
  {
   "cell_type": "markdown",
   "source": "### Adapter desired output",
   "metadata": {
    "tags": [],
    "is_collapsed": false,
    "cell_id": "00020-3b7f7415-81ac-4323-9e35-cafb009af1b2",
    "deepnote_cell_type": "text-cell-h3"
   }
  },
  {
   "cell_type": "code",
   "source": "class CIF2PandasAdapterOutput(BaseModel):\n    \"\"\"\n    Set up desired output\n    \"\"\"\n    \n    metadata: pd.DataFrame\n    loops: List[pd.DataFrame]\n\n    class Config:\n        \"\"\"\n        Set some config to allow pd.DataFrame to BaseModel\n        \"\"\"\n        arbitrary_types_allowed = True",
   "metadata": {
    "tags": [],
    "cell_id": "00020-a4ebb473-11ca-4e89-8916-f974cde6e830",
    "deepnote_to_be_reexecuted": false,
    "source_hash": "89d22fd6",
    "execution_start": 1633027845655,
    "execution_millis": 5,
    "deepnote_cell_type": "code"
   },
   "outputs": [],
   "execution_count": 23
  },
  {
   "cell_type": "markdown",
   "source": "### Set up adapter",
   "metadata": {
    "tags": [],
    "is_collapsed": false,
    "cell_id": "00022-53c35b2b-cd9a-49f3-bcf5-0c834e67afa1",
    "deepnote_cell_type": "text-cell-h3"
   }
  },
  {
   "cell_type": "code",
   "metadata": {
    "tags": [],
    "cell_id": "00000-18f4bb35-5117-438a-af3d-cb677d6fe133",
    "deepnote_to_be_reexecuted": false,
    "source_hash": "81a20405",
    "execution_start": 1633027863287,
    "execution_millis": 9,
    "deepnote_cell_type": "code"
   },
   "source": "class CIF2PandasAdapter:\n    \"\"\"\n    An adapter to convert CIF into Pandas DataFrames\n    \"\"\"\n\n    @staticmethod\n    def load_cif(cif_filepath: str) -> List[str]:\n        \"\"\"\n        Read CIF file as String and split looping sections\n        \"\"\"\n        with open(cif_filepath) as f:\n            filename = f.readline().strip()\n            dataframes = []\n            dataframe = []\n            for line in f.readlines():\n                columns = [\n                    l.strip() for l in line.strip().split(\" \") if l and (l != \"\")\n                ]\n                if columns:\n                    if columns[0] == \"loop_\":\n                        dataframes.append(dataframe)\n                        dataframe = []\n                    else:\n                        if \"fapswitch\" not in columns and columns != [\"\"]:\n                            dataframe.append(columns)\n            dataframes.append(dataframe)\n\n        return dataframes\n\n    @staticmethod\n    def get_metadata(dataframes: List[List[str]]) -> pd.DataFrame:\n        \"\"\"\n        Get metadata of a CIF file\n        \"\"\"\n        return pd.DataFrame(dataframes[0])\n\n    @staticmethod\n    def get_loops(dataframes: List[List[str]]) -> List[pd.DataFrame]:\n        \"\"\"\n        Get loops\n        \"\"\"\n        loops = []\n        for dataframe in dataframes[1:]:\n            loop = pd.DataFrame(dataframe)\n            loop_fixed = loop[loop[1].notna()]\n            loop_fixed.columns = loop[loop[1].isna()][0]\n            loops.append(loop_fixed)\n\n        return loops\n\n    def extract(self, cif_filepath: str) -> List[str]:\n        \"\"\"\n        Read filepath and return sectioned string\n        \"\"\"\n        return self.load_cif(cif_filepath)\n\n    def transform(self, cif_list: List[str]) -> Tuple[pd.DataFrame, List[pd.DataFrame]]:\n        \"\"\"\n        Transform CIF text into datafram\n        :params:\n        cif_list: List of sectioned CIF text\n        :return:\n        Tuple of :\n        (\n            dataframe of CIF metadata,\n            Tuple of (\n                dataframe of loop_1,\n                dataframe of loop_2,\n            )\n        )\n        \"\"\"\n        metadata = self.get_metadata(cif_list)\n        extract_loops = self.get_loops(cif_list)\n        return metadata, extract_loops\n\n    def load(\n        self, metadata: pd.DataFrame, extract_loops: List[pd.DataFrame]\n    ) -> CIF2PandasAdapterOutput:\n        \"\"\"\n        Load tranformed data into desired output\n        \"\"\"\n        output = CIF2PandasAdapterOutput(metadata=metadata, loops=extract_loops)\n        return output\n\n    def apply(self, cif_filepath: str) -> List[pd.DataFrame]:\n        \"\"\"\n        Apply ETL pipeline\n        \"\"\"\n        # Extract\n        cif_list = self.extract(cif_filepath)\n\n        # Transform\n        metadata = self.get_metadata(cif_list)\n        extract_loops = self.get_loops(cif_list)\n\n        # Load\n        output = self.load(metadata, extract_loops)\n\n        return output",
   "outputs": [],
   "execution_count": 24
  },
  {
   "cell_type": "markdown",
   "source": "### Let's test our adapter",
   "metadata": {
    "tags": [],
    "is_collapsed": false,
    "cell_id": "00024-581891c6-8abf-435e-8791-d9decb98e366",
    "deepnote_cell_type": "text-cell-h3"
   }
  },
  {
   "cell_type": "markdown",
   "source": "คราวนี้เราลองมาทดสอบตัว adapter ที่เราเขียนนะครับ",
   "metadata": {
    "tags": [],
    "cell_id": "00025-b8db3c5b-46a4-480b-a6e9-2b7e3cc216f0",
    "deepnote_cell_type": "markdown"
   }
  },
  {
   "cell_type": "code",
   "source": "# สร้าง instance\nadapter = CIF2PandasAdapter()\n\n# Apply adapter\noutput = adapter.apply(\"/work/assets/cif/mof_unit_pretest_1606.cif\")",
   "metadata": {
    "tags": [],
    "cell_id": "00021-baf9a992-b6bc-4a39-bceb-d6a7e49bcbfb",
    "deepnote_to_be_reexecuted": false,
    "source_hash": "24cb13a1",
    "execution_start": 1633028041414,
    "execution_millis": 7,
    "deepnote_cell_type": "code"
   },
   "outputs": [],
   "execution_count": 28
  },
  {
   "cell_type": "code",
   "source": "output.metadata",
   "metadata": {
    "tags": [],
    "cell_id": "00025-d3f96882-ea45-43e6-b550-675078f417cc",
    "deepnote_to_be_reexecuted": false,
    "source_hash": "77732673",
    "execution_start": 1633028051588,
    "execution_millis": 11,
    "deepnote_cell_type": "code"
   },
   "outputs": [
    {
     "output_type": "execute_result",
     "execution_count": 29,
     "data": {
      "application/vnd.deepnote.dataframe.v2+json": {
       "row_count": 11,
       "column_count": 2,
       "columns": [
        {
         "name": 0,
         "dtype": "object",
         "stats": {
          "unique_count": 11,
          "nan_count": 0,
          "categories": [
           {
            "name": "_audit_creation_date",
            "count": 1
           },
           {
            "name": "_symmetry_space_group_name_H-M",
            "count": 1
           },
           {
            "name": "9 others",
            "count": 9
           }
          ]
         }
        },
        {
         "name": 1,
         "dtype": "object",
         "stats": {
          "unique_count": 11,
          "nan_count": 0,
          "categories": [
           {
            "name": "2012-12-11T16:15:10-0500",
            "count": 1
           },
           {
            "name": "P1",
            "count": 1
           },
           {
            "name": "9 others",
            "count": 9
           }
          ]
         }
        },
        {
         "name": "_deepnote_index_column",
         "dtype": "int64"
        }
       ],
       "rows_top": [
        {
         "0": "_audit_creation_date",
         "1": "2012-12-11T16:15:10-0500",
         "_deepnote_index_column": 0
        },
        {
         "0": "_symmetry_space_group_name_H-M",
         "1": "P1",
         "_deepnote_index_column": 1
        },
        {
         "0": "_symmetry_Int_Tables_number",
         "1": "1",
         "_deepnote_index_column": 2
        },
        {
         "0": "_space_group_crystal_system",
         "1": "triclinic",
         "_deepnote_index_column": 3
        },
        {
         "0": "_cell_length_a",
         "1": "8.228802",
         "_deepnote_index_column": 4
        },
        {
         "0": "_cell_length_b",
         "1": "14.951691",
         "_deepnote_index_column": 5
        },
        {
         "0": "_cell_length_c",
         "1": "17.354118",
         "_deepnote_index_column": 6
        },
        {
         "0": "_cell_angle_alpha",
         "1": "96.677539",
         "_deepnote_index_column": 7
        },
        {
         "0": "_cell_angle_beta",
         "1": "95.887047",
         "_deepnote_index_column": 8
        },
        {
         "0": "_cell_angle_gamma",
         "1": "97.930399",
         "_deepnote_index_column": 9
        },
        {
         "0": "_cell_volume",
         "1": "2085.06604594",
         "_deepnote_index_column": 10
        }
       ],
       "rows_bottom": null
      },
      "text/plain": "                                 0                         1\n0             _audit_creation_date  2012-12-11T16:15:10-0500\n1   _symmetry_space_group_name_H-M                        P1\n2      _symmetry_Int_Tables_number                         1\n3      _space_group_crystal_system                 triclinic\n4                   _cell_length_a                  8.228802\n5                   _cell_length_b                 14.951691\n6                   _cell_length_c                 17.354118\n7                _cell_angle_alpha                 96.677539\n8                 _cell_angle_beta                 95.887047\n9                _cell_angle_gamma                 97.930399\n10                    _cell_volume             2085.06604594",
      "text/html": "<div>\n<style scoped>\n    .dataframe tbody tr th:only-of-type {\n        vertical-align: middle;\n    }\n\n    .dataframe tbody tr th {\n        vertical-align: top;\n    }\n\n    .dataframe thead th {\n        text-align: right;\n    }\n</style>\n<table border=\"1\" class=\"dataframe\">\n  <thead>\n    <tr style=\"text-align: right;\">\n      <th></th>\n      <th>0</th>\n      <th>1</th>\n    </tr>\n  </thead>\n  <tbody>\n    <tr>\n      <th>0</th>\n      <td>_audit_creation_date</td>\n      <td>2012-12-11T16:15:10-0500</td>\n    </tr>\n    <tr>\n      <th>1</th>\n      <td>_symmetry_space_group_name_H-M</td>\n      <td>P1</td>\n    </tr>\n    <tr>\n      <th>2</th>\n      <td>_symmetry_Int_Tables_number</td>\n      <td>1</td>\n    </tr>\n    <tr>\n      <th>3</th>\n      <td>_space_group_crystal_system</td>\n      <td>triclinic</td>\n    </tr>\n    <tr>\n      <th>4</th>\n      <td>_cell_length_a</td>\n      <td>8.228802</td>\n    </tr>\n    <tr>\n      <th>5</th>\n      <td>_cell_length_b</td>\n      <td>14.951691</td>\n    </tr>\n    <tr>\n      <th>6</th>\n      <td>_cell_length_c</td>\n      <td>17.354118</td>\n    </tr>\n    <tr>\n      <th>7</th>\n      <td>_cell_angle_alpha</td>\n      <td>96.677539</td>\n    </tr>\n    <tr>\n      <th>8</th>\n      <td>_cell_angle_beta</td>\n      <td>95.887047</td>\n    </tr>\n    <tr>\n      <th>9</th>\n      <td>_cell_angle_gamma</td>\n      <td>97.930399</td>\n    </tr>\n    <tr>\n      <th>10</th>\n      <td>_cell_volume</td>\n      <td>2085.06604594</td>\n    </tr>\n  </tbody>\n</table>\n</div>"
     },
     "metadata": {}
    }
   ],
   "execution_count": 29
  },
  {
   "cell_type": "code",
   "source": "output.loops[0]",
   "metadata": {
    "tags": [],
    "cell_id": "00026-856771f4-4826-413d-987c-67f63fd5f128",
    "deepnote_to_be_reexecuted": false,
    "source_hash": "2e011761",
    "execution_start": 1633027880587,
    "execution_millis": 48,
    "deepnote_cell_type": "code"
   },
   "outputs": [
    {
     "output_type": "execute_result",
     "execution_count": 27,
     "data": {
      "application/vnd.deepnote.dataframe.v2+json": {
       "row_count": 130,
       "column_count": 7,
       "columns": [
        {
         "name": "_atom_site_label",
         "dtype": "object",
         "stats": {
          "unique_count": 130,
          "nan_count": 0,
          "categories": [
           {
            "name": "Ba1",
            "count": 1
           },
           {
            "name": "Ba2",
            "count": 1
           },
           {
            "name": "128 others",
            "count": 128
           }
          ]
         }
        },
        {
         "name": "_atom_site_type_symbol",
         "dtype": "object",
         "stats": {
          "unique_count": 6,
          "nan_count": 0,
          "categories": [
           {
            "name": "C",
            "count": 44
           },
           {
            "name": "H",
            "count": 43
           },
           {
            "name": "4 others",
            "count": 43
           }
          ]
         }
        },
        {
         "name": "_atom_type_description",
         "dtype": "object",
         "stats": {
          "unique_count": 9,
          "nan_count": 0,
          "categories": [
           {
            "name": "H_",
            "count": 43
           },
           {
            "name": "C_R",
            "count": 26
           },
           {
            "name": "7 others",
            "count": 61
           }
          ]
         }
        },
        {
         "name": "_atom_site_fract_x",
         "dtype": "object",
         "stats": {
          "unique_count": 130,
          "nan_count": 0,
          "categories": [
           {
            "name": "0.159600",
            "count": 1
           },
           {
            "name": "0.650580",
            "count": 1
           },
           {
            "name": "128 others",
            "count": 128
           }
          ]
         }
        },
        {
         "name": "_atom_site_fract_y",
         "dtype": "object",
         "stats": {
          "unique_count": 130,
          "nan_count": 0,
          "categories": [
           {
            "name": "0.544390",
            "count": 1
           },
           {
            "name": "0.455600",
            "count": 1
           },
           {
            "name": "128 others",
            "count": 128
           }
          ]
         }
        },
        {
         "name": "_atom_site_fract_z",
         "dtype": "object",
         "stats": {
          "unique_count": 130,
          "nan_count": 0,
          "categories": [
           {
            "name": "0.464780",
            "count": 1
           },
           {
            "name": "0.535150",
            "count": 1
           },
           {
            "name": "128 others",
            "count": 128
           }
          ]
         }
        },
        {
         "name": "_atom_type_partial_charge",
         "dtype": "object",
         "stats": {
          "unique_count": 130,
          "nan_count": 0,
          "categories": [
           {
            "name": "1.802869",
            "count": 1
           },
           {
            "name": "1.731705",
            "count": 1
           },
           {
            "name": "128 others",
            "count": 128
           }
          ]
         }
        },
        {
         "name": "_deepnote_index_column",
         "dtype": "int64"
        }
       ],
       "rows_top": [
        {
         "_atom_site_label": "Ba1",
         "_atom_site_type_symbol": "Ba",
         "_atom_type_description": "Ba6+2",
         "_atom_site_fract_x": "0.159600",
         "_atom_site_fract_y": "0.544390",
         "_atom_site_fract_z": "0.464780",
         "_atom_type_partial_charge": "1.802869",
         "_deepnote_index_column": 7
        },
        {
         "_atom_site_label": "Ba2",
         "_atom_site_type_symbol": "Ba",
         "_atom_type_description": "Ba6+2",
         "_atom_site_fract_x": "0.650580",
         "_atom_site_fract_y": "0.455600",
         "_atom_site_fract_z": "0.535150",
         "_atom_type_partial_charge": "1.731705",
         "_deepnote_index_column": 8
        },
        {
         "_atom_site_label": "C1",
         "_atom_site_type_symbol": "C",
         "_atom_type_description": "C_3",
         "_atom_site_fract_x": "0.371183",
         "_atom_site_fract_y": "0.776470",
         "_atom_site_fract_z": "0.179085",
         "_atom_type_partial_charge": "0.469523",
         "_deepnote_index_column": 9
        },
        {
         "_atom_site_label": "C2",
         "_atom_site_type_symbol": "C",
         "_atom_type_description": "C_R",
         "_atom_site_fract_x": "0.888781",
         "_atom_site_fract_y": "0.792702",
         "_atom_site_fract_z": "0.520630",
         "_atom_type_partial_charge": "0.031324",
         "_deepnote_index_column": 10
        },
        {
         "_atom_site_label": "C3",
         "_atom_site_type_symbol": "C",
         "_atom_type_description": "C_R",
         "_atom_site_fract_x": "0.070499",
         "_atom_site_fract_y": "0.235341",
         "_atom_site_fract_z": "0.526809",
         "_atom_type_partial_charge": "-0.395251",
         "_deepnote_index_column": 11
        },
        {
         "_atom_site_label": "C4",
         "_atom_site_type_symbol": "C",
         "_atom_type_description": "C_3",
         "_atom_site_fract_x": "0.915027",
         "_atom_site_fract_y": "0.788898",
         "_atom_site_fract_z": "0.293288",
         "_atom_type_partial_charge": "0.984036",
         "_deepnote_index_column": 12
        },
        {
         "_atom_site_label": "C5",
         "_atom_site_type_symbol": "C",
         "_atom_type_description": "C_R",
         "_atom_site_fract_x": "0.169539",
         "_atom_site_fract_y": "0.173526",
         "_atom_site_fract_z": "0.552557",
         "_atom_type_partial_charge": "-0.081898",
         "_deepnote_index_column": 13
        },
        {
         "_atom_site_label": "C6",
         "_atom_site_type_symbol": "C",
         "_atom_type_description": "C_R",
         "_atom_site_fract_x": "0.110908",
         "_atom_site_fract_y": "0.080335",
         "_atom_site_fract_z": "0.541215",
         "_atom_type_partial_charge": "0.491614",
         "_deepnote_index_column": 14
        },
        {
         "_atom_site_label": "C7",
         "_atom_site_type_symbol": "C",
         "_atom_type_description": "C_R",
         "_atom_site_fract_x": "0.946886",
         "_atom_site_fract_y": "0.046485",
         "_atom_site_fract_z": "0.505787",
         "_atom_type_partial_charge": "-0.038539",
         "_deepnote_index_column": 15
        },
        {
         "_atom_site_label": "C8",
         "_atom_site_type_symbol": "C",
         "_atom_type_description": "C_R",
         "_atom_site_fract_x": "0.853251",
         "_atom_site_fract_y": "0.109976",
         "_atom_site_fract_z": "0.472449",
         "_atom_type_partial_charge": "-0.073439",
         "_deepnote_index_column": 16
        },
        {
         "_atom_site_label": "C9",
         "_atom_site_type_symbol": "C",
         "_atom_type_description": "C_R",
         "_atom_site_fract_x": "0.875571",
         "_atom_site_fract_y": "0.951621",
         "_atom_site_fract_z": "0.498674",
         "_atom_type_partial_charge": "0.056781",
         "_deepnote_index_column": 17
        },
        {
         "_atom_site_label": "C10",
         "_atom_site_type_symbol": "C",
         "_atom_type_description": "C_R",
         "_atom_site_fract_x": "0.715431",
         "_atom_site_fract_y": "0.921838",
         "_atom_site_fract_z": "0.456204",
         "_atom_type_partial_charge": "-0.100826",
         "_deepnote_index_column": 18
        },
        {
         "_atom_site_label": "C11",
         "_atom_site_type_symbol": "C",
         "_atom_type_description": "C_R",
         "_atom_site_fract_x": "0.631304",
         "_atom_site_fract_y": "0.985236",
         "_atom_site_fract_z": "0.421794",
         "_atom_type_partial_charge": "-0.063707",
         "_deepnote_index_column": 19
        },
        {
         "_atom_site_label": "C12",
         "_atom_site_type_symbol": "C",
         "_atom_type_description": "C_3",
         "_atom_site_fract_x": "0.395931",
         "_atom_site_fract_y": "0.745004",
         "_atom_site_fract_z": "0.259126",
         "_atom_type_partial_charge": "0.293206",
         "_deepnote_index_column": 20
        },
        {
         "_atom_site_label": "C13",
         "_atom_site_type_symbol": "C",
         "_atom_type_description": "C_R",
         "_atom_site_fract_x": "0.699710",
         "_atom_site_fract_y": "0.076384",
         "_atom_site_fract_z": "0.428462",
         "_atom_type_partial_charge": "0.017390",
         "_deepnote_index_column": 21
        },
        {
         "_atom_site_label": "C14",
         "_atom_site_type_symbol": "C",
         "_atom_type_description": "C_R",
         "_atom_site_fract_x": "0.954238",
         "_atom_site_fract_y": "0.885369",
         "_atom_site_fract_z": "0.534648",
         "_atom_type_partial_charge": "-0.118581",
         "_deepnote_index_column": 22
        },
        {
         "_atom_site_label": "C15",
         "_atom_site_type_symbol": "C",
         "_atom_type_description": "C_R",
         "_atom_site_fract_x": "0.736349",
         "_atom_site_fract_y": "0.764877",
         "_atom_site_fract_z": "0.476414",
         "_atom_type_partial_charge": "0.344116",
         "_deepnote_index_column": 23
        },
        {
         "_atom_site_label": "C16",
         "_atom_site_type_symbol": "C",
         "_atom_type_description": "C_3",
         "_atom_site_fract_x": "0.897508",
         "_atom_site_fract_y": "0.875115",
         "_atom_site_fract_z": "0.256547",
         "_atom_type_partial_charge": "-0.235614",
         "_deepnote_index_column": 24
        },
        {
         "_atom_site_label": "C17",
         "_atom_site_type_symbol": "C",
         "_atom_type_description": "C_R",
         "_atom_site_fract_x": "0.917060",
         "_atom_site_fract_y": "0.205321",
         "_atom_site_fract_z": "0.482759",
         "_atom_type_partial_charge": "0.054029",
         "_deepnote_index_column": 25
        },
        {
         "_atom_site_label": "C18",
         "_atom_site_type_symbol": "C",
         "_atom_type_description": "C_R",
         "_atom_site_fract_x": "0.602963",
         "_atom_site_fract_y": "0.533970",
         "_atom_site_fract_z": "0.279854",
         "_atom_type_partial_charge": "-0.327746",
         "_deepnote_index_column": 26
        },
        {
         "_atom_site_label": "C19",
         "_atom_site_type_symbol": "C",
         "_atom_type_description": "C_R",
         "_atom_site_fract_x": "0.444777",
         "_atom_site_fract_y": "0.487026",
         "_atom_site_fract_z": "0.254322",
         "_atom_type_partial_charge": "0.136098",
         "_deepnote_index_column": 27
        },
        {
         "_atom_site_label": "C20",
         "_atom_site_type_symbol": "C",
         "_atom_type_description": "C_R",
         "_atom_site_fract_x": "0.385122",
         "_atom_site_fract_y": "0.474645",
         "_atom_site_fract_z": "0.174550",
         "_atom_type_partial_charge": "-0.158069",
         "_deepnote_index_column": 28
        },
        {
         "_atom_site_label": "C21",
         "_atom_site_type_symbol": "C",
         "_atom_type_description": "C_R",
         "_atom_site_fract_x": "0.485032",
         "_atom_site_fract_y": "0.508487",
         "_atom_site_fract_z": "0.120289",
         "_atom_type_partial_charge": "-0.037405",
         "_deepnote_index_column": 29
        },
        {
         "_atom_site_label": "C22",
         "_atom_site_type_symbol": "C",
         "_atom_type_description": "C_R",
         "_atom_site_fract_x": "0.647015",
         "_atom_site_fract_y": "0.553123",
         "_atom_site_fract_z": "0.146376",
         "_atom_type_partial_charge": "0.586427",
         "_deepnote_index_column": 30
        },
        {
         "_atom_site_label": "C23",
         "_atom_site_type_symbol": "C",
         "_atom_type_description": "C_3",
         "_atom_site_fract_x": "0.568318",
         "_atom_site_fract_y": "0.732295",
         "_atom_site_fract_z": "0.653122",
         "_atom_type_partial_charge": "0.301125",
         "_deepnote_index_column": 31
        },
        {
         "_atom_site_label": "C24",
         "_atom_site_type_symbol": "C",
         "_atom_type_description": "C_R",
         "_atom_site_fract_x": "0.706092",
         "_atom_site_fract_y": "0.564695",
         "_atom_site_fract_z": "0.226404",
         "_atom_type_partial_charge": "-0.102541",
         "_deepnote_index_column": 32
        },
        {
         "_atom_site_label": "C25",
         "_atom_site_type_symbol": "C",
         "_atom_type_description": "C_R",
         "_atom_site_fract_x": "0.412910",
         "_atom_site_fract_y": "0.514791",
         "_atom_site_fract_z": "0.835601",
         "_atom_type_partial_charge": "-0.178957",
         "_deepnote_index_column": 33
        },
        {
         "_atom_site_label": "C26",
         "_atom_site_type_symbol": "C",
         "_atom_type_description": "C_R",
         "_atom_site_fract_x": "0.357351",
         "_atom_site_fract_y": "0.508036",
         "_atom_site_fract_z": "0.755848",
         "_atom_type_partial_charge": "0.043783",
         "_deepnote_index_column": 34
        },
        {
         "_atom_site_label": "C27",
         "_atom_site_type_symbol": "C",
         "_atom_type_description": "C_R",
         "_atom_site_fract_x": "0.095486",
         "_atom_site_fract_y": "0.422770",
         "_atom_site_fract_z": "0.776812",
         "_atom_type_partial_charge": "-0.068213",
         "_deepnote_index_column": 35
        },
        {
         "_atom_site_label": "C28",
         "_atom_site_type_symbol": "C",
         "_atom_type_description": "C_3",
         "_atom_site_fract_x": "0.765327",
         "_atom_site_fract_y": "0.336368",
         "_atom_site_fract_z": "0.290108",
         "_atom_type_partial_charge": "0.852920",
         "_deepnote_index_column": 36
        },
        {
         "_atom_site_label": "C29",
         "_atom_site_type_symbol": "C",
         "_atom_type_description": "C_R",
         "_atom_site_fract_x": "0.150690",
         "_atom_site_fract_y": "0.429499",
         "_atom_site_fract_z": "0.857095",
         "_atom_type_partial_charge": "0.592115",
         "_deepnote_index_column": 37
        },
        {
         "_atom_site_label": "C30",
         "_atom_site_type_symbol": "C",
         "_atom_type_description": "C_R",
         "_atom_site_fract_x": "0.311126",
         "_atom_site_fract_y": "0.474687",
         "_atom_site_fract_z": "0.886472",
         "_atom_type_partial_charge": "-0.098071",
         "_deepnote_index_column": 38
        },
        {
         "_atom_site_label": "C31",
         "_atom_site_type_symbol": "C",
         "_atom_type_description": "C_1",
         "_atom_site_fract_x": "0.369923",
         "_atom_site_fract_y": "0.485046",
         "_atom_site_fract_z": "0.969148",
         "_atom_type_partial_charge": "0.136866",
         "_deepnote_index_column": 39
        },
        {
         "_atom_site_label": "C32",
         "_atom_site_type_symbol": "C",
         "_atom_type_description": "C_1",
         "_atom_site_fract_x": "0.421993",
         "_atom_site_fract_y": "0.495337",
         "_atom_site_fract_z": "0.037985",
         "_atom_type_partial_charge": "0.180737",
         "_deepnote_index_column": 40
        },
        {
         "_atom_site_label": "C33",
         "_atom_site_type_symbol": "C",
         "_atom_type_description": "C_R",
         "_atom_site_fract_x": "0.201898",
         "_atom_site_fract_y": "0.459180",
         "_atom_site_fract_z": "0.726604",
         "_atom_type_partial_charge": "-0.373866",
         "_deepnote_index_column": 41
        },
        {
         "_atom_site_label": "C34",
         "_atom_site_type_symbol": "C",
         "_atom_type_description": "C_3",
         "_atom_site_fract_x": "0.603070",
         "_atom_site_fract_y": "0.835144",
         "_atom_site_fract_z": "0.675465",
         "_atom_type_partial_charge": "-0.377812",
         "_deepnote_index_column": 42
        },
        {
         "_atom_site_label": "C35",
         "_atom_site_type_symbol": "C",
         "_atom_type_description": "C_3",
         "_atom_site_fract_x": "0.846289",
         "_atom_site_fract_y": "0.326608",
         "_atom_site_fract_z": "0.215132",
         "_atom_type_partial_charge": "-0.205224",
         "_deepnote_index_column": 43
        },
        {
         "_atom_site_label": "C36",
         "_atom_site_type_symbol": "C",
         "_atom_type_description": "C_3",
         "_atom_site_fract_x": "0.057909",
         "_atom_site_fract_y": "0.652852",
         "_atom_site_fract_z": "0.701600",
         "_atom_type_partial_charge": "0.276864",
         "_deepnote_index_column": 44
        },
        {
         "_atom_site_label": "C37",
         "_atom_site_type_symbol": "C",
         "_atom_type_description": "C_3",
         "_atom_site_fract_x": "0.092466",
         "_atom_site_fract_y": "0.676374",
         "_atom_site_fract_z": "0.789981",
         "_atom_type_partial_charge": "-0.337465",
         "_deepnote_index_column": 45
        },
        {
         "_atom_site_label": "C38",
         "_atom_site_type_symbol": "C",
         "_atom_type_description": "C_3",
         "_atom_site_fract_x": "0.241230",
         "_atom_site_fract_y": "0.269632",
         "_atom_site_fract_z": "0.365153",
         "_atom_type_partial_charge": "0.377814",
         "_deepnote_index_column": 46
        },
        {
         "_atom_site_label": "C39",
         "_atom_site_type_symbol": "C",
         "_atom_type_description": "C_3",
         "_atom_site_fract_x": "0.205941",
         "_atom_site_fract_y": "0.166758",
         "_atom_site_fract_z": "0.341959",
         "_atom_type_partial_charge": "0.510757",
         "_deepnote_index_column": 47
        },
        {
         "_atom_site_label": "C40",
         "_atom_site_type_symbol": "C",
         "_atom_type_description": "C_3",
         "_atom_site_fract_x": "0.916613",
         "_atom_site_fract_y": "0.208621",
         "_atom_site_fract_z": "0.734652",
         "_atom_type_partial_charge": "0.863719",
         "_deepnote_index_column": 48
        },
        {
         "_atom_site_label": "C41",
         "_atom_site_type_symbol": "C",
         "_atom_type_description": "C_3",
         "_atom_site_fract_x": "0.825319",
         "_atom_site_fract_y": "0.113674",
         "_atom_site_fract_z": "0.703302",
         "_atom_type_partial_charge": "-0.246154",
         "_deepnote_index_column": 49
        },
        {
         "_atom_site_label": "C42",
         "_atom_site_type_symbol": "C",
         "_atom_type_description": "C_3",
         "_atom_site_fract_x": "0.344743",
         "_atom_site_fract_y": "0.210080",
         "_atom_site_fract_z": "0.734560",
         "_atom_type_partial_charge": "0.325080",
         "_deepnote_index_column": 50
        },
        {
         "_atom_site_label": "C43",
         "_atom_site_type_symbol": "C",
         "_atom_type_description": "C_3",
         "_atom_site_fract_x": "0.424714",
         "_atom_site_fract_y": "0.213152",
         "_atom_site_fract_z": "0.818010",
         "_atom_type_partial_charge": "-0.271181",
         "_deepnote_index_column": 51
        },
        {
         "_atom_site_label": "C44",
         "_atom_site_type_symbol": "C",
         "_atom_type_description": "C_R",
         "_atom_site_fract_x": "0.643892",
         "_atom_site_fract_y": "0.828577",
         "_atom_site_fract_z": "0.448454",
         "_atom_type_partial_charge": "-0.087836",
         "_deepnote_index_column": 52
        },
        {
         "_atom_site_label": "F1",
         "_atom_site_type_symbol": "F",
         "_atom_type_description": "F_",
         "_atom_site_fract_x": "0.072556",
         "_atom_site_fract_y": "0.144298",
         "_atom_site_fract_z": "0.284312",
         "_atom_type_partial_charge": "-0.688859",
         "_deepnote_index_column": 53
        },
        {
         "_atom_site_label": "F2",
         "_atom_site_type_symbol": "F",
         "_atom_type_description": "F_",
         "_atom_site_fract_x": "0.397352",
         "_atom_site_fract_y": "0.709138",
         "_atom_site_fract_z": "0.122104",
         "_atom_type_partial_charge": "-0.708167",
         "_deepnote_index_column": 54
        },
        {
         "_atom_site_label": "F3",
         "_atom_site_type_symbol": "F",
         "_atom_type_description": "F_",
         "_atom_site_fract_x": "0.014252",
         "_atom_site_fract_y": "0.204425",
         "_atom_site_fract_z": "0.803508",
         "_atom_type_partial_charge": "-0.717040",
         "_deepnote_index_column": 55
        },
        {
         "_atom_site_label": "F4",
         "_atom_site_type_symbol": "F",
         "_atom_type_description": "F_",
         "_atom_site_fract_x": "0.027965",
         "_atom_site_fract_y": "0.810894",
         "_atom_site_fract_z": "0.359631",
         "_atom_type_partial_charge": "-0.688710",
         "_deepnote_index_column": 56
        },
        {
         "_atom_site_label": "F5",
         "_atom_site_type_symbol": "F",
         "_atom_type_description": "F_",
         "_atom_site_fract_x": "0.673701",
         "_atom_site_fract_y": "0.675099",
         "_atom_site_fract_z": "0.464514",
         "_atom_type_partial_charge": "-0.722241",
         "_deepnote_index_column": 57
        },
        {
         "_atom_site_label": "F6",
         "_atom_site_type_symbol": "F",
         "_atom_type_description": "F_",
         "_atom_site_fract_x": "0.222774",
         "_atom_site_fract_y": "0.024786",
         "_atom_site_fract_z": "0.558072",
         "_atom_type_partial_charge": "-0.713601",
         "_deepnote_index_column": 58
        },
        {
         "_atom_site_label": "F7",
         "_atom_site_type_symbol": "F",
         "_atom_type_description": "F_",
         "_atom_site_fract_x": "0.746733",
         "_atom_site_fract_y": "0.583889",
         "_atom_site_fract_z": "0.094364",
         "_atom_type_partial_charge": "-0.668197",
         "_deepnote_index_column": 59
        },
        {
         "_atom_site_label": "F8",
         "_atom_site_type_symbol": "F",
         "_atom_type_description": "F_",
         "_atom_site_fract_x": "0.047980",
         "_atom_site_fract_y": "0.394891",
         "_atom_site_fract_z": "0.906355",
         "_atom_type_partial_charge": "-0.656160",
         "_deepnote_index_column": 60
        },
        {
         "_atom_site_label": "F9",
         "_atom_site_type_symbol": "F",
         "_atom_type_description": "F_",
         "_atom_site_fract_x": "0.598619",
         "_atom_site_fract_y": "0.331177",
         "_atom_site_fract_z": "0.269220",
         "_atom_type_partial_charge": "-0.752909",
         "_deepnote_index_column": 61
        },
        {
         "_atom_site_label": "H1",
         "_atom_site_type_symbol": "H",
         "_atom_type_description": "H_",
         "_atom_site_fract_x": "0.784958",
         "_atom_site_fract_y": "0.264215",
         "_atom_site_fract_z": "0.176259",
         "_atom_type_partial_charge": "0.142465",
         "_deepnote_index_column": 62
        },
        {
         "_atom_site_label": "H2",
         "_atom_site_type_symbol": "H",
         "_atom_type_description": "H_",
         "_atom_site_fract_x": "0.524141",
         "_atom_site_fract_y": "0.730166",
         "_atom_site_fract_z": "0.269094",
         "_atom_type_partial_charge": "-0.074203",
         "_deepnote_index_column": 63
        },
        {
         "_atom_site_label": "H3",
         "_atom_site_type_symbol": "H",
         "_atom_type_description": "H_",
         "_atom_site_fract_x": "0.474863",
         "_atom_site_fract_y": "0.716984",
         "_atom_site_fract_z": "0.600599",
         "_atom_type_partial_charge": "0.077060",
         "_deepnote_index_column": 64
        },
        {
         "_atom_site_label": "H4",
         "_atom_site_type_symbol": "H",
         "_atom_type_description": "H_",
         "_atom_site_fract_x": "0.488424",
         "_atom_site_fract_y": "0.861060",
         "_atom_site_fract_z": "0.690294",
         "_atom_type_partial_charge": "0.149928",
         "_deepnote_index_column": 65
        },
        {
         "_atom_site_label": "H5",
         "_atom_site_type_symbol": "H",
         "_atom_type_description": "H_",
         "_atom_site_fract_x": "0.459873",
         "_atom_site_fract_y": "0.839065",
         "_atom_site_fract_z": "0.177200",
         "_atom_type_partial_charge": "0.020538",
         "_deepnote_index_column": 66
        },
        {
         "_atom_site_label": "H6",
         "_atom_site_type_symbol": "H",
         "_atom_type_description": "H_",
         "_atom_site_fract_x": "0.805081",
         "_atom_site_fract_y": "0.859158",
         "_atom_site_fract_z": "0.203657",
         "_atom_type_partial_charge": "0.066138",
         "_deepnote_index_column": 67
        },
        {
         "_atom_site_label": "H7",
         "_atom_site_type_symbol": "H",
         "_atom_type_description": "H_",
         "_atom_site_fract_x": "0.996107",
         "_atom_site_fract_y": "0.230272",
         "_atom_site_fract_z": "0.689911",
         "_atom_type_partial_charge": "-0.074300",
         "_deepnote_index_column": 68
        },
        {
         "_atom_site_label": "H8",
         "_atom_site_type_symbol": "H",
         "_atom_type_description": "H_",
         "_atom_site_fract_x": "0.915487",
         "_atom_site_fract_y": "0.066002",
         "_atom_site_fract_z": "0.693037",
         "_atom_type_partial_charge": "0.036679",
         "_deepnote_index_column": 69
        },
        {
         "_atom_site_label": "H9",
         "_atom_site_type_symbol": "H",
         "_atom_type_description": "H_",
         "_atom_site_fract_x": "0.743842",
         "_atom_site_fract_y": "0.088384",
         "_atom_site_fract_z": "0.745837",
         "_atom_type_partial_charge": "0.137552",
         "_deepnote_index_column": 70
        },
        {
         "_atom_site_label": "H10",
         "_atom_site_type_symbol": "H",
         "_atom_type_description": "H_",
         "_atom_site_fract_x": "0.236328",
         "_atom_site_fract_y": "0.155190",
         "_atom_site_fract_z": "0.723340",
         "_atom_type_partial_charge": "0.049086",
         "_deepnote_index_column": 71
        },
        {
         "_atom_site_label": "H11",
         "_atom_site_type_symbol": "H",
         "_atom_type_description": "H_",
         "_atom_site_fract_x": "0.304832",
         "_atom_site_fract_y": "0.277487",
         "_atom_site_fract_z": "0.729004",
         "_atom_type_partial_charge": "-0.035149",
         "_deepnote_index_column": 72
        },
        {
         "_atom_site_label": "H12",
         "_atom_site_type_symbol": "H",
         "_atom_type_description": "H_",
         "_atom_site_fract_x": "0.978788",
         "_atom_site_fract_y": "0.320928",
         "_atom_site_fract_z": "0.228352",
         "_atom_type_partial_charge": "0.107759",
         "_deepnote_index_column": 73
        },
        {
         "_atom_site_label": "H13",
         "_atom_site_type_symbol": "H",
         "_atom_type_description": "H_",
         "_atom_site_fract_x": "0.334027",
         "_atom_site_fract_y": "0.226102",
         "_atom_site_fract_z": "0.859562",
         "_atom_type_partial_charge": "0.140481",
         "_deepnote_index_column": 74
        },
        {
         "_atom_site_label": "H14",
         "_atom_site_type_symbol": "H",
         "_atom_type_description": "H_",
         "_atom_site_fract_x": "0.531594",
         "_atom_site_fract_y": "0.268924",
         "_atom_site_fract_z": "0.831072",
         "_atom_type_partial_charge": "0.152331",
         "_deepnote_index_column": 75
        },
        {
         "_atom_site_label": "H15",
         "_atom_site_type_symbol": "H",
         "_atom_type_description": "H_",
         "_atom_site_fract_x": "0.467850",
         "_atom_site_fract_y": "0.147285",
         "_atom_site_fract_z": "0.826056",
         "_atom_type_partial_charge": "0.126536",
         "_deepnote_index_column": 76
        },
        {
         "_atom_site_label": "H16",
         "_atom_site_type_symbol": "H",
         "_atom_type_description": "H_",
         "_atom_site_fract_x": "0.511206",
         "_atom_site_fract_y": "0.965184",
         "_atom_site_fract_z": "0.388249",
         "_atom_type_partial_charge": "0.110779",
         "_deepnote_index_column": 77
        },
        {
         "_atom_site_label": "H17",
         "_atom_site_type_symbol": "H",
         "_atom_type_description": "H_",
         "_atom_site_fract_x": "0.063483",
         "_atom_site_fract_y": "0.902757",
         "_atom_site_fract_z": "0.576015",
         "_atom_type_partial_charge": "0.168220",
         "_deepnote_index_column": 78
        },
        {
         "_atom_site_label": "H18",
         "_atom_site_type_symbol": "H",
         "_atom_type_description": "H_",
         "_atom_site_fract_x": "0.120013",
         "_atom_site_fract_y": "0.307123",
         "_atom_site_fract_z": "0.534874",
         "_atom_type_partial_charge": "0.087056",
         "_deepnote_index_column": 79
        },
        {
         "_atom_site_label": "H19",
         "_atom_site_type_symbol": "H",
         "_atom_type_description": "H_",
         "_atom_site_fract_x": "0.628324",
         "_atom_site_fract_y": "0.120016",
         "_atom_site_fract_z": "0.398538",
         "_atom_type_partial_charge": "0.098443",
         "_deepnote_index_column": 80
        },
        {
         "_atom_site_label": "H20",
         "_atom_site_type_symbol": "H",
         "_atom_type_description": "H_",
         "_atom_site_fract_x": "0.262891",
         "_atom_site_fract_y": "0.437022",
         "_atom_site_fract_z": "0.154717",
         "_atom_type_partial_charge": "0.116425",
         "_deepnote_index_column": 81
        },
        {
         "_atom_site_label": "H21",
         "_atom_site_type_symbol": "H",
         "_atom_type_description": "H_",
         "_atom_site_fract_x": "0.308220",
         "_atom_site_fract_y": "0.681678",
         "_atom_site_fract_z": "0.259379",
         "_atom_type_partial_charge": "0.085395",
         "_deepnote_index_column": 82
        },
        {
         "_atom_site_label": "H22",
         "_atom_site_type_symbol": "H",
         "_atom_type_description": "H_",
         "_atom_site_fract_x": "0.835021",
         "_atom_site_fract_y": "0.386610",
         "_atom_site_fract_z": "0.183923",
         "_atom_type_partial_charge": "0.045640",
         "_deepnote_index_column": 83
        },
        {
         "_atom_site_label": "H23",
         "_atom_site_type_symbol": "H",
         "_atom_type_description": "H_",
         "_atom_site_fract_x": "0.949952",
         "_atom_site_fract_y": "0.598078",
         "_atom_site_fract_z": "0.687631",
         "_atom_type_partial_charge": "0.062892",
         "_deepnote_index_column": 84
        },
        {
         "_atom_site_label": "H24",
         "_atom_site_type_symbol": "H",
         "_atom_type_description": "H_",
         "_atom_site_fract_x": "0.166683",
         "_atom_site_fract_y": "0.628681",
         "_atom_site_fract_z": "0.678781",
         "_atom_type_partial_charge": "-0.002990",
         "_deepnote_index_column": 85
        },
        {
         "_atom_site_label": "H25",
         "_atom_site_type_symbol": "H",
         "_atom_type_description": "H_",
         "_atom_site_fract_x": "0.177611",
         "_atom_site_fract_y": "0.132075",
         "_atom_site_fract_z": "0.392974",
         "_atom_type_partial_charge": "-0.080206",
         "_deepnote_index_column": 86
        },
        {
         "_atom_site_label": "H26",
         "_atom_site_type_symbol": "H",
         "_atom_type_description": "H_",
         "_atom_site_fract_x": "0.315999",
         "_atom_site_fract_y": "0.142121",
         "_atom_site_fract_z": "0.319818",
         "_atom_type_partial_charge": "0.038972",
         "_deepnote_index_column": 87
        },
        {
         "_atom_site_label": "H27",
         "_atom_site_type_symbol": "H",
         "_atom_type_description": "H_",
         "_atom_site_fract_x": "0.684784",
         "_atom_site_fract_y": "0.708240",
         "_atom_site_fract_z": "0.639038",
         "_atom_type_partial_charge": "0.026489",
         "_deepnote_index_column": 88
        },
        {
         "_atom_site_label": "H28",
         "_atom_site_type_symbol": "H",
         "_atom_type_description": "H_",
         "_atom_site_fract_x": "0.699670",
         "_atom_site_fract_y": "0.853178",
         "_atom_site_fract_z": "0.726633",
         "_atom_type_partial_charge": "0.133666",
         "_deepnote_index_column": 89
        },
        {
         "_atom_site_label": "H29",
         "_atom_site_type_symbol": "H",
         "_atom_type_description": "H_",
         "_atom_site_fract_x": "0.647091",
         "_atom_site_fract_y": "0.868254",
         "_atom_site_fract_z": "0.625843",
         "_atom_type_partial_charge": "0.038194",
         "_deepnote_index_column": 90
        },
        {
         "_atom_site_label": "H30",
         "_atom_site_type_symbol": "H",
         "_atom_type_description": "H_",
         "_atom_site_fract_x": "0.748924",
         "_atom_site_fract_y": "0.115419",
         "_atom_site_fract_z": "0.647043",
         "_atom_type_partial_charge": "0.080340",
         "_deepnote_index_column": 91
        },
        {
         "_atom_site_label": "H31",
         "_atom_site_type_symbol": "H",
         "_atom_type_description": "H_",
         "_atom_site_fract_x": "0.533094",
         "_atom_site_fract_y": "0.553283",
         "_atom_site_fract_z": "0.858248",
         "_atom_type_partial_charge": "0.129042",
         "_deepnote_index_column": 92
        },
        {
         "_atom_site_label": "H32",
         "_atom_site_type_symbol": "H",
         "_atom_type_description": "H_",
         "_atom_site_fract_x": "0.792937",
         "_atom_site_fract_y": "0.762524",
         "_atom_site_fract_z": "0.310251",
         "_atom_type_partial_charge": "-0.226231",
         "_deepnote_index_column": 93
        },
        {
         "_atom_site_label": "H33",
         "_atom_site_type_symbol": "H",
         "_atom_type_description": "H_",
         "_atom_site_fract_x": "0.649699",
         "_atom_site_fract_y": "0.541686",
         "_atom_site_fract_z": "0.341197",
         "_atom_type_partial_charge": "0.140178",
         "_deepnote_index_column": 94
        },
        {
         "_atom_site_label": "H34",
         "_atom_site_type_symbol": "H",
         "_atom_type_description": "H_",
         "_atom_site_fract_x": "0.206436",
         "_atom_site_fract_y": "0.727157",
         "_atom_site_fract_z": "0.805770",
         "_atom_type_partial_charge": "0.140219",
         "_deepnote_index_column": 95
        },
        {
         "_atom_site_label": "H35",
         "_atom_site_type_symbol": "H",
         "_atom_type_description": "H_",
         "_atom_site_fract_x": "0.158940",
         "_atom_site_fract_y": "0.455358",
         "_atom_site_fract_z": "0.665080",
         "_atom_type_partial_charge": "0.075525",
         "_deepnote_index_column": 96
        },
        {
         "_atom_site_label": "H36",
         "_atom_site_type_symbol": "H",
         "_atom_type_description": "H_",
         "_atom_site_fract_x": "0.855562",
         "_atom_site_fract_y": "0.926072",
         "_atom_site_fract_z": "0.298861",
         "_atom_type_partial_charge": "0.083824",
         "_deepnote_index_column": 97
        },
        {
         "_atom_site_label": "H37",
         "_atom_site_type_symbol": "H",
         "_atom_type_description": "H_",
         "_atom_site_fract_x": "0.018256",
         "_atom_site_fract_y": "0.904693",
         "_atom_site_fract_z": "0.239863",
         "_atom_type_partial_charge": "0.133475",
         "_deepnote_index_column": 98
        },
        {
         "_atom_site_label": "H38",
         "_atom_site_type_symbol": "H",
         "_atom_type_description": "H_",
         "_atom_site_fract_x": "0.816082",
         "_atom_site_fract_y": "0.403959",
         "_atom_site_fract_z": "0.323712",
         "_atom_type_partial_charge": "-0.060792",
         "_deepnote_index_column": 99
        },
        {
         "_atom_site_label": "H39",
         "_atom_site_type_symbol": "H",
         "_atom_type_description": "H_",
         "_atom_site_fract_x": "0.109201",
         "_atom_site_fract_y": "0.614601",
         "_atom_site_fract_z": "0.817566",
         "_atom_type_partial_charge": "0.055436",
         "_deepnote_index_column": 100
        },
        {
         "_atom_site_label": "H40",
         "_atom_site_type_symbol": "H",
         "_atom_type_description": "H_",
         "_atom_site_fract_x": "0.986897",
         "_atom_site_fract_y": "0.705118",
         "_atom_site_fract_z": "0.813045",
         "_atom_type_partial_charge": "0.138158",
         "_deepnote_index_column": 101
        },
        {
         "_atom_site_label": "H41",
         "_atom_site_type_symbol": "H",
         "_atom_type_description": "H_",
         "_atom_site_fract_x": "0.128726",
         "_atom_site_fract_y": "0.294207",
         "_atom_site_fract_z": "0.383253",
         "_atom_type_partial_charge": "-0.075841",
         "_deepnote_index_column": 102
        },
        {
         "_atom_site_label": "H42",
         "_atom_site_type_symbol": "H",
         "_atom_type_description": "H_",
         "_atom_site_fract_x": "0.341492",
         "_atom_site_fract_y": "0.285229",
         "_atom_site_fract_z": "0.414710",
         "_atom_type_partial_charge": "-0.027392",
         "_deepnote_index_column": 103
        },
        {
         "_atom_site_label": "H43",
         "_atom_site_type_symbol": "H",
         "_atom_type_description": "H_",
         "_atom_site_fract_x": "0.243324",
         "_atom_site_fract_y": "0.791526",
         "_atom_site_fract_z": "0.167049",
         "_atom_type_partial_charge": "0.078678",
         "_deepnote_index_column": 104
        },
        {
         "_atom_site_label": "O1",
         "_atom_site_type_symbol": "O",
         "_atom_type_description": "O_2",
         "_atom_site_fract_x": "0.167760",
         "_atom_site_fract_y": "0.722240",
         "_atom_site_fract_z": "0.545330",
         "_atom_type_partial_charge": "-0.458545",
         "_deepnote_index_column": 105
        },
        {
         "_atom_site_label": "O2",
         "_atom_site_type_symbol": "O",
         "_atom_type_description": "O_2",
         "_atom_site_fract_x": "0.759031",
         "_atom_site_fract_y": "0.436627",
         "_atom_site_fract_z": "0.770528",
         "_atom_type_partial_charge": "-0.451563",
         "_deepnote_index_column": 106
        },
        {
         "_atom_site_label": "O3",
         "_atom_site_type_symbol": "O",
         "_atom_type_description": "O_3",
         "_atom_site_fract_x": "0.800824",
         "_atom_site_fract_y": "0.267018",
         "_atom_site_fract_z": "0.750512",
         "_atom_type_partial_charge": "-0.557000",
         "_deepnote_index_column": 107
        },
        {
         "_atom_site_label": "O4",
         "_atom_site_type_symbol": "O",
         "_atom_type_description": "O_3",
         "_atom_site_fract_x": "0.895630",
         "_atom_site_fract_y": "0.608830",
         "_atom_site_fract_z": "0.542770",
         "_atom_type_partial_charge": "-0.432188",
         "_deepnote_index_column": 108
        },
        {
         "_atom_site_label": "O5",
         "_atom_site_type_symbol": "O",
         "_atom_type_description": "O_3",
         "_atom_site_fract_x": "0.421020",
         "_atom_site_fract_y": "0.453750",
         "_atom_site_fract_z": "0.407560",
         "_atom_type_partial_charge": "-0.460151",
         "_deepnote_index_column": 109
        },
        {
         "_atom_site_label": "O6",
         "_atom_site_type_symbol": "O",
         "_atom_type_description": "O_2",
         "_atom_site_fract_x": "0.649640",
         "_atom_site_fract_y": "0.543870",
         "_atom_site_fract_z": "0.686710",
         "_atom_type_partial_charge": "-0.459648",
         "_deepnote_index_column": 110
        },
        {
         "_atom_site_label": "O7",
         "_atom_site_type_symbol": "O",
         "_atom_type_description": "O_3",
         "_atom_site_fract_x": "0.509526",
         "_atom_site_fract_y": "0.691688",
         "_atom_site_fract_z": "0.715991",
         "_atom_type_partial_charge": "-0.641019",
         "_deepnote_index_column": 111
        },
        {
         "_atom_site_label": "O8",
         "_atom_site_type_symbol": "O",
         "_atom_type_description": "O_2",
         "_atom_site_fract_x": "0.502036",
         "_atom_site_fract_y": "0.174512",
         "_atom_site_fract_z": "0.536337",
         "_atom_type_partial_charge": "-0.457591",
         "_deepnote_index_column": 112
        },
        {
         "_atom_site_label": "O9",
         "_atom_site_type_symbol": "O",
         "_atom_type_description": "O_3",
         "_atom_site_fract_x": "0.458762",
         "_atom_site_fract_y": "0.190082",
         "_atom_site_fract_z": "0.682809",
         "_atom_type_partial_charge": "-0.554598",
         "_deepnote_index_column": 113
        },
        {
         "_atom_site_label": "O10",
         "_atom_site_type_symbol": "O",
         "_atom_type_description": "O_3",
         "_atom_site_fract_x": "0.383340",
         "_atom_site_fract_y": "0.666720",
         "_atom_site_fract_z": "0.405900",
         "_atom_type_partial_charge": "-0.426179",
         "_deepnote_index_column": 114
        },
        {
         "_atom_site_label": "O11",
         "_atom_site_type_symbol": "O",
         "_atom_type_description": "O_2",
         "_atom_site_fract_x": "0.309794",
         "_atom_site_fract_y": "0.827715",
         "_atom_site_fract_z": "0.462007",
         "_atom_type_partial_charge": "-0.377651",
         "_deepnote_index_column": 115
        },
        {
         "_atom_site_label": "O12",
         "_atom_site_type_symbol": "O",
         "_atom_type_description": "O_3",
         "_atom_site_fract_x": "0.287845",
         "_atom_site_fract_y": "0.309968",
         "_atom_site_fract_z": "0.300444",
         "_atom_type_partial_charge": "-0.561866",
         "_deepnote_index_column": 116
        },
        {
         "_atom_site_label": "O13",
         "_atom_site_type_symbol": "O",
         "_atom_type_description": "O_3",
         "_atom_site_fract_x": "0.026150",
         "_atom_site_fract_y": "0.731221",
         "_atom_site_fract_z": "0.669677",
         "_atom_type_partial_charge": "-0.650229",
         "_deepnote_index_column": 117
        },
        {
         "_atom_site_label": "O14",
         "_atom_site_type_symbol": "O",
         "_atom_type_description": "O_3",
         "_atom_site_fract_x": "0.365843",
         "_atom_site_fract_y": "0.813622",
         "_atom_site_fract_z": "0.316022",
         "_atom_type_partial_charge": "-0.621730",
         "_deepnote_index_column": 118
        },
        {
         "_atom_site_label": "O15",
         "_atom_site_type_symbol": "O",
         "_atom_type_description": "O_2",
         "_atom_site_fract_x": "0.160650",
         "_atom_site_fract_y": "0.456070",
         "_atom_site_fract_z": "0.313260",
         "_atom_type_partial_charge": "-0.514595",
         "_deepnote_index_column": 119
        },
        {
         "_atom_site_label": "O16",
         "_atom_site_type_symbol": "O",
         "_atom_type_description": "O_3",
         "_atom_site_fract_x": "0.956180",
         "_atom_site_fract_y": "0.620960",
         "_atom_site_fract_z": "0.366010",
         "_atom_type_partial_charge": "-0.436869",
         "_deepnote_index_column": 120
        },
        {
         "_atom_site_label": "O17",
         "_atom_site_type_symbol": "O",
         "_atom_type_description": "O_2",
         "_atom_site_fract_x": "0.044508",
         "_atom_site_fract_y": "0.561059",
         "_atom_site_fract_z": "0.227303",
         "_atom_type_partial_charge": "-0.470752",
         "_deepnote_index_column": 121
        },
        {
         "_atom_site_label": "O18",
         "_atom_site_type_symbol": "O",
         "_atom_type_description": "O_3",
         "_atom_site_fract_x": "0.971715",
         "_atom_site_fract_y": "0.725863",
         "_atom_site_fract_z": "0.239577",
         "_atom_type_partial_charge": "-0.601452",
         "_deepnote_index_column": 122
        },
        {
         "_atom_site_label": "O19",
         "_atom_site_type_symbol": "O",
         "_atom_type_description": "O_2",
         "_atom_site_fract_x": "0.642530",
         "_atom_site_fract_y": "0.277700",
         "_atom_site_fract_z": "0.454650",
         "_atom_type_partial_charge": "-0.470044",
         "_deepnote_index_column": 123
        },
        {
         "_atom_site_label": "O20",
         "_atom_site_type_symbol": "O",
         "_atom_type_description": "O_3",
         "_atom_site_fract_x": "0.914670",
         "_atom_site_fract_y": "0.391160",
         "_atom_site_fract_z": "0.457170",
         "_atom_type_partial_charge": "-0.510195",
         "_deepnote_index_column": 124
        },
        {
         "_atom_site_label": "O21",
         "_atom_site_type_symbol": "O",
         "_atom_type_description": "O_3",
         "_atom_site_fract_x": "0.426950",
         "_atom_site_fract_y": "0.333280",
         "_atom_site_fract_z": "0.594040",
         "_atom_type_partial_charge": "-0.478928",
         "_deepnote_index_column": 125
        },
        {
         "_atom_site_label": "O22",
         "_atom_site_type_symbol": "O",
         "_atom_type_description": "O_3",
         "_atom_site_fract_x": "0.790320",
         "_atom_site_fract_y": "0.262536",
         "_atom_site_fract_z": "0.330365",
         "_atom_type_partial_charge": "-0.615248",
         "_deepnote_index_column": 126
        },
        {
         "_atom_site_label": "O23",
         "_atom_site_type_symbol": "O",
         "_atom_type_description": "O_3",
         "_atom_site_fract_x": "0.389270",
         "_atom_site_fract_y": "0.546240",
         "_atom_site_fract_z": "0.592370",
         "_atom_type_partial_charge": "-0.469572",
         "_deepnote_index_column": 127
        },
        {
         "_atom_site_label": "O24",
         "_atom_site_type_symbol": "O",
         "_atom_type_description": "O_3",
         "_atom_site_fract_x": "0.854110",
         "_atom_site_fract_y": "0.379030",
         "_atom_site_fract_z": "0.633930",
         "_atom_type_partial_charge": "-0.503760",
         "_deepnote_index_column": 128
        },
        {
         "_atom_site_label": "P1",
         "_atom_site_type_symbol": "P",
         "_atom_type_description": "P_3+3",
         "_atom_site_fract_x": "0.994810",
         "_atom_site_fract_y": "0.708030",
         "_atom_site_fract_z": "0.567580",
         "_atom_type_partial_charge": "1.055126",
         "_deepnote_index_column": 129
        },
        {
         "_atom_site_label": "P2",
         "_atom_site_type_symbol": "P",
         "_atom_type_description": "P_3+3",
         "_atom_site_fract_x": "0.329370",
         "_atom_site_fract_y": "0.428660",
         "_atom_site_fract_z": "0.324010",
         "_atom_type_partial_charge": "1.085563",
         "_deepnote_index_column": 130
        },
        {
         "_atom_site_label": "P3",
         "_atom_site_type_symbol": "P",
         "_atom_type_description": "P_3+3",
         "_atom_site_fract_x": "0.919566",
         "_atom_site_fract_y": "0.616109",
         "_atom_site_fract_z": "0.264204",
         "_atom_type_partial_charge": "1.080464",
         "_deepnote_index_column": 131
        },
        {
         "_atom_site_label": "P4",
         "_atom_site_type_symbol": "P",
         "_atom_type_description": "P_3+3",
         "_atom_site_fract_x": "0.815490",
         "_atom_site_fract_y": "0.291960",
         "_atom_site_fract_z": "0.432360",
         "_atom_type_partial_charge": "1.021380",
         "_deepnote_index_column": 132
        },
        {
         "_atom_site_label": "P5",
         "_atom_site_type_symbol": "P",
         "_atom_type_description": "P_3+3",
         "_atom_site_fract_x": "0.879666",
         "_atom_site_fract_y": "0.377398",
         "_atom_site_fract_z": "0.735117",
         "_atom_type_partial_charge": "1.058954",
         "_deepnote_index_column": 133
        },
        {
         "_atom_site_label": "P6",
         "_atom_site_type_symbol": "P",
         "_atom_type_description": "P_3+3",
         "_atom_site_fract_x": "0.426042",
         "_atom_site_fract_y": "0.785100",
         "_atom_site_fract_z": "0.408644",
         "_atom_type_partial_charge": "1.084319",
         "_deepnote_index_column": 134
        },
        {
         "_atom_site_label": "P7",
         "_atom_site_type_symbol": "P",
         "_atom_type_description": "P_3+3",
         "_atom_site_fract_x": "0.474452",
         "_atom_site_fract_y": "0.573225",
         "_atom_site_fract_z": "0.690302",
         "_atom_type_partial_charge": "0.972787",
         "_deepnote_index_column": 135
        },
        {
         "_atom_site_label": "P8",
         "_atom_site_type_symbol": "P",
         "_atom_type_description": "P_3+3",
         "_atom_site_fract_x": "0.387096",
         "_atom_site_fract_y": "0.215711",
         "_atom_site_fract_z": "0.590878",
         "_atom_type_partial_charge": "1.039654",
         "_deepnote_index_column": 136
        }
       ],
       "rows_bottom": null
      },
      "text/plain": "0   _atom_site_label _atom_site_type_symbol _atom_type_description  \\\n7                Ba1                     Ba                  Ba6+2   \n8                Ba2                     Ba                  Ba6+2   \n9                 C1                      C                    C_3   \n10                C2                      C                    C_R   \n11                C3                      C                    C_R   \n..               ...                    ...                    ...   \n132               P4                      P                  P_3+3   \n133               P5                      P                  P_3+3   \n134               P6                      P                  P_3+3   \n135               P7                      P                  P_3+3   \n136               P8                      P                  P_3+3   \n\n0   _atom_site_fract_x _atom_site_fract_y _atom_site_fract_z  \\\n7             0.159600           0.544390           0.464780   \n8             0.650580           0.455600           0.535150   \n9             0.371183           0.776470           0.179085   \n10            0.888781           0.792702           0.520630   \n11            0.070499           0.235341           0.526809   \n..                 ...                ...                ...   \n132           0.815490           0.291960           0.432360   \n133           0.879666           0.377398           0.735117   \n134           0.426042           0.785100           0.408644   \n135           0.474452           0.573225           0.690302   \n136           0.387096           0.215711           0.590878   \n\n0   _atom_type_partial_charge  \n7                    1.802869  \n8                    1.731705  \n9                    0.469523  \n10                   0.031324  \n11                  -0.395251  \n..                        ...  \n132                  1.021380  \n133                  1.058954  \n134                  1.084319  \n135                  0.972787  \n136                  1.039654  \n\n[130 rows x 7 columns]",
      "text/html": "<div>\n<style scoped>\n    .dataframe tbody tr th:only-of-type {\n        vertical-align: middle;\n    }\n\n    .dataframe tbody tr th {\n        vertical-align: top;\n    }\n\n    .dataframe thead th {\n        text-align: right;\n    }\n</style>\n<table border=\"1\" class=\"dataframe\">\n  <thead>\n    <tr style=\"text-align: right;\">\n      <th></th>\n      <th>_atom_site_label</th>\n      <th>_atom_site_type_symbol</th>\n      <th>_atom_type_description</th>\n      <th>_atom_site_fract_x</th>\n      <th>_atom_site_fract_y</th>\n      <th>_atom_site_fract_z</th>\n      <th>_atom_type_partial_charge</th>\n    </tr>\n  </thead>\n  <tbody>\n    <tr>\n      <th>7</th>\n      <td>Ba1</td>\n      <td>Ba</td>\n      <td>Ba6+2</td>\n      <td>0.159600</td>\n      <td>0.544390</td>\n      <td>0.464780</td>\n      <td>1.802869</td>\n    </tr>\n    <tr>\n      <th>8</th>\n      <td>Ba2</td>\n      <td>Ba</td>\n      <td>Ba6+2</td>\n      <td>0.650580</td>\n      <td>0.455600</td>\n      <td>0.535150</td>\n      <td>1.731705</td>\n    </tr>\n    <tr>\n      <th>9</th>\n      <td>C1</td>\n      <td>C</td>\n      <td>C_3</td>\n      <td>0.371183</td>\n      <td>0.776470</td>\n      <td>0.179085</td>\n      <td>0.469523</td>\n    </tr>\n    <tr>\n      <th>10</th>\n      <td>C2</td>\n      <td>C</td>\n      <td>C_R</td>\n      <td>0.888781</td>\n      <td>0.792702</td>\n      <td>0.520630</td>\n      <td>0.031324</td>\n    </tr>\n    <tr>\n      <th>11</th>\n      <td>C3</td>\n      <td>C</td>\n      <td>C_R</td>\n      <td>0.070499</td>\n      <td>0.235341</td>\n      <td>0.526809</td>\n      <td>-0.395251</td>\n    </tr>\n    <tr>\n      <th>...</th>\n      <td>...</td>\n      <td>...</td>\n      <td>...</td>\n      <td>...</td>\n      <td>...</td>\n      <td>...</td>\n      <td>...</td>\n    </tr>\n    <tr>\n      <th>132</th>\n      <td>P4</td>\n      <td>P</td>\n      <td>P_3+3</td>\n      <td>0.815490</td>\n      <td>0.291960</td>\n      <td>0.432360</td>\n      <td>1.021380</td>\n    </tr>\n    <tr>\n      <th>133</th>\n      <td>P5</td>\n      <td>P</td>\n      <td>P_3+3</td>\n      <td>0.879666</td>\n      <td>0.377398</td>\n      <td>0.735117</td>\n      <td>1.058954</td>\n    </tr>\n    <tr>\n      <th>134</th>\n      <td>P6</td>\n      <td>P</td>\n      <td>P_3+3</td>\n      <td>0.426042</td>\n      <td>0.785100</td>\n      <td>0.408644</td>\n      <td>1.084319</td>\n    </tr>\n    <tr>\n      <th>135</th>\n      <td>P7</td>\n      <td>P</td>\n      <td>P_3+3</td>\n      <td>0.474452</td>\n      <td>0.573225</td>\n      <td>0.690302</td>\n      <td>0.972787</td>\n    </tr>\n    <tr>\n      <th>136</th>\n      <td>P8</td>\n      <td>P</td>\n      <td>P_3+3</td>\n      <td>0.387096</td>\n      <td>0.215711</td>\n      <td>0.590878</td>\n      <td>1.039654</td>\n    </tr>\n  </tbody>\n</table>\n<p>130 rows × 7 columns</p>\n</div>"
     },
     "metadata": {}
    }
   ],
   "execution_count": 27
  },
  {
   "cell_type": "code",
   "source": "output.loops[1]",
   "metadata": {
    "tags": [],
    "cell_id": "00029-ec635e83-6edc-478b-b5b6-c8b4a7e61ff1",
    "deepnote_to_be_reexecuted": false,
    "source_hash": "24eaecb2",
    "execution_start": 1633028061860,
    "execution_millis": 37,
    "deepnote_cell_type": "code"
   },
   "outputs": [
    {
     "output_type": "execute_result",
     "execution_count": 30,
     "data": {
      "application/vnd.deepnote.dataframe.v2+json": {
       "row_count": 151,
       "column_count": 3,
       "columns": [
        {
         "name": "_geom_bond_atom_site_label_1",
         "dtype": "object",
         "stats": {
          "unique_count": 69,
          "nan_count": 0,
          "categories": [
           {
            "name": "Ba1",
            "count": 11
           },
           {
            "name": "Ba2",
            "count": 9
           },
           {
            "name": "67 others",
            "count": 131
           }
          ]
         }
        },
        {
         "name": "_geom_bond_atom_site_label_2",
         "dtype": "object",
         "stats": {
          "unique_count": 112,
          "nan_count": 0,
          "categories": [
           {
            "name": "P4",
            "count": 5
           },
           {
            "name": "P2",
            "count": 5
           },
           {
            "name": "110 others",
            "count": 141
           }
          ]
         }
        },
        {
         "name": "_ccdc_geom_bond_type",
         "dtype": "object",
         "stats": {
          "unique_count": 4,
          "nan_count": 0,
          "categories": [
           {
            "name": "S",
            "count": 114
           },
           {
            "name": "A",
            "count": 28
           },
           {
            "name": "2 others",
            "count": 9
           }
          ]
         }
        },
        {
         "name": "_deepnote_index_column",
         "dtype": "int64"
        }
       ],
       "rows_top": [
        {
         "_geom_bond_atom_site_label_1": "O2",
         "_geom_bond_atom_site_label_2": "P5",
         "_ccdc_geom_bond_type": "D",
         "_deepnote_index_column": 3
        },
        {
         "_geom_bond_atom_site_label_1": "C42",
         "_geom_bond_atom_site_label_2": "H11",
         "_ccdc_geom_bond_type": "S",
         "_deepnote_index_column": 4
        },
        {
         "_geom_bond_atom_site_label_1": "C14",
         "_geom_bond_atom_site_label_2": "H17",
         "_ccdc_geom_bond_type": "S",
         "_deepnote_index_column": 5
        },
        {
         "_geom_bond_atom_site_label_1": "C34",
         "_geom_bond_atom_site_label_2": "H4",
         "_ccdc_geom_bond_type": "S",
         "_deepnote_index_column": 6
        },
        {
         "_geom_bond_atom_site_label_1": "Ba1",
         "_geom_bond_atom_site_label_2": "O1",
         "_ccdc_geom_bond_type": "S",
         "_deepnote_index_column": 7
        },
        {
         "_geom_bond_atom_site_label_1": "C39",
         "_geom_bond_atom_site_label_2": "H25",
         "_ccdc_geom_bond_type": "S",
         "_deepnote_index_column": 8
        },
        {
         "_geom_bond_atom_site_label_1": "Ba2",
         "_geom_bond_atom_site_label_2": "O20",
         "_ccdc_geom_bond_type": "S",
         "_deepnote_index_column": 9
        },
        {
         "_geom_bond_atom_site_label_1": "C41",
         "_geom_bond_atom_site_label_2": "H8",
         "_ccdc_geom_bond_type": "S",
         "_deepnote_index_column": 10
        },
        {
         "_geom_bond_atom_site_label_1": "C5",
         "_geom_bond_atom_site_label_2": "C6",
         "_ccdc_geom_bond_type": "A",
         "_deepnote_index_column": 11
        },
        {
         "_geom_bond_atom_site_label_1": "C12",
         "_geom_bond_atom_site_label_2": "O14",
         "_ccdc_geom_bond_type": "S",
         "_deepnote_index_column": 12
        },
        {
         "_geom_bond_atom_site_label_1": "C10",
         "_geom_bond_atom_site_label_2": "C11",
         "_ccdc_geom_bond_type": "A",
         "_deepnote_index_column": 13
        },
        {
         "_geom_bond_atom_site_label_1": "C18",
         "_geom_bond_atom_site_label_2": "C24",
         "_ccdc_geom_bond_type": "A",
         "_deepnote_index_column": 14
        },
        {
         "_geom_bond_atom_site_label_1": "C16",
         "_geom_bond_atom_site_label_2": "H36",
         "_ccdc_geom_bond_type": "S",
         "_deepnote_index_column": 15
        },
        {
         "_geom_bond_atom_site_label_1": "C44",
         "_geom_bond_atom_site_label_2": "P6",
         "_ccdc_geom_bond_type": "S",
         "_deepnote_index_column": 16
        },
        {
         "_geom_bond_atom_site_label_1": "C22",
         "_geom_bond_atom_site_label_2": "C24",
         "_ccdc_geom_bond_type": "A",
         "_deepnote_index_column": 17
        },
        {
         "_geom_bond_atom_site_label_1": "C26",
         "_geom_bond_atom_site_label_2": "P7",
         "_ccdc_geom_bond_type": "S",
         "_deepnote_index_column": 18
        },
        {
         "_geom_bond_atom_site_label_1": "C28",
         "_geom_bond_atom_site_label_2": "H38",
         "_ccdc_geom_bond_type": "S",
         "_deepnote_index_column": 19
        },
        {
         "_geom_bond_atom_site_label_1": "C8",
         "_geom_bond_atom_site_label_2": "C13",
         "_ccdc_geom_bond_type": "A",
         "_deepnote_index_column": 20
        },
        {
         "_geom_bond_atom_site_label_1": "C36",
         "_geom_bond_atom_site_label_2": "C37",
         "_ccdc_geom_bond_type": "S",
         "_deepnote_index_column": 21
        },
        {
         "_geom_bond_atom_site_label_1": "O22",
         "_geom_bond_atom_site_label_2": "P4",
         "_ccdc_geom_bond_type": "S",
         "_deepnote_index_column": 22
        },
        {
         "_geom_bond_atom_site_label_1": "C42",
         "_geom_bond_atom_site_label_2": "O9",
         "_ccdc_geom_bond_type": "S",
         "_deepnote_index_column": 23
        },
        {
         "_geom_bond_atom_site_label_1": "C36",
         "_geom_bond_atom_site_label_2": "H24",
         "_ccdc_geom_bond_type": "S",
         "_deepnote_index_column": 24
        },
        {
         "_geom_bond_atom_site_label_1": "Ba2",
         "_geom_bond_atom_site_label_2": "O4",
         "_ccdc_geom_bond_type": "S",
         "_deepnote_index_column": 25
        },
        {
         "_geom_bond_atom_site_label_1": "C34",
         "_geom_bond_atom_site_label_2": "H28",
         "_ccdc_geom_bond_type": "S",
         "_deepnote_index_column": 26
        },
        {
         "_geom_bond_atom_site_label_1": "C35",
         "_geom_bond_atom_site_label_2": "H12",
         "_ccdc_geom_bond_type": "S",
         "_deepnote_index_column": 27
        },
        {
         "_geom_bond_atom_site_label_1": "C1",
         "_geom_bond_atom_site_label_2": "F2",
         "_ccdc_geom_bond_type": "S",
         "_deepnote_index_column": 28
        },
        {
         "_geom_bond_atom_site_label_1": "O21",
         "_geom_bond_atom_site_label_2": "P8",
         "_ccdc_geom_bond_type": "S",
         "_deepnote_index_column": 29
        },
        {
         "_geom_bond_atom_site_label_1": "Ba1",
         "_geom_bond_atom_site_label_2": "Ba2",
         "_ccdc_geom_bond_type": "S",
         "_deepnote_index_column": 30
        },
        {
         "_geom_bond_atom_site_label_1": "O24",
         "_geom_bond_atom_site_label_2": "P5",
         "_ccdc_geom_bond_type": "S",
         "_deepnote_index_column": 31
        },
        {
         "_geom_bond_atom_site_label_1": "C5",
         "_geom_bond_atom_site_label_2": "P8",
         "_ccdc_geom_bond_type": "S",
         "_deepnote_index_column": 32
        },
        {
         "_geom_bond_atom_site_label_1": "O12",
         "_geom_bond_atom_site_label_2": "P2",
         "_ccdc_geom_bond_type": "S",
         "_deepnote_index_column": 33
        },
        {
         "_geom_bond_atom_site_label_1": "C35",
         "_geom_bond_atom_site_label_2": "H1",
         "_ccdc_geom_bond_type": "S",
         "_deepnote_index_column": 34
        },
        {
         "_geom_bond_atom_site_label_1": "C26",
         "_geom_bond_atom_site_label_2": "C33",
         "_ccdc_geom_bond_type": "A",
         "_deepnote_index_column": 35
        },
        {
         "_geom_bond_atom_site_label_1": "C6",
         "_geom_bond_atom_site_label_2": "C7",
         "_ccdc_geom_bond_type": "A",
         "_deepnote_index_column": 36
        },
        {
         "_geom_bond_atom_site_label_1": "C21",
         "_geom_bond_atom_site_label_2": "C22",
         "_ccdc_geom_bond_type": "A",
         "_deepnote_index_column": 37
        },
        {
         "_geom_bond_atom_site_label_1": "C7",
         "_geom_bond_atom_site_label_2": "C8",
         "_ccdc_geom_bond_type": "A",
         "_deepnote_index_column": 38
        },
        {
         "_geom_bond_atom_site_label_1": "C6",
         "_geom_bond_atom_site_label_2": "F6",
         "_ccdc_geom_bond_type": "S",
         "_deepnote_index_column": 39
        },
        {
         "_geom_bond_atom_site_label_1": "C40",
         "_geom_bond_atom_site_label_2": "H7",
         "_ccdc_geom_bond_type": "S",
         "_deepnote_index_column": 40
        },
        {
         "_geom_bond_atom_site_label_1": "C1",
         "_geom_bond_atom_site_label_2": "H5",
         "_ccdc_geom_bond_type": "S",
         "_deepnote_index_column": 41
        },
        {
         "_geom_bond_atom_site_label_1": "C40",
         "_geom_bond_atom_site_label_2": "F3",
         "_ccdc_geom_bond_type": "S",
         "_deepnote_index_column": 42
        },
        {
         "_geom_bond_atom_site_label_1": "C43",
         "_geom_bond_atom_site_label_2": "H15",
         "_ccdc_geom_bond_type": "S",
         "_deepnote_index_column": 43
        },
        {
         "_geom_bond_atom_site_label_1": "C19",
         "_geom_bond_atom_site_label_2": "C20",
         "_ccdc_geom_bond_type": "A",
         "_deepnote_index_column": 44
        },
        {
         "_geom_bond_atom_site_label_1": "C15",
         "_geom_bond_atom_site_label_2": "F5",
         "_ccdc_geom_bond_type": "S",
         "_deepnote_index_column": 45
        },
        {
         "_geom_bond_atom_site_label_1": "C42",
         "_geom_bond_atom_site_label_2": "H10",
         "_ccdc_geom_bond_type": "S",
         "_deepnote_index_column": 46
        },
        {
         "_geom_bond_atom_site_label_1": "Ba1",
         "_geom_bond_atom_site_label_2": "O15",
         "_ccdc_geom_bond_type": "S",
         "_deepnote_index_column": 47
        },
        {
         "_geom_bond_atom_site_label_1": "C20",
         "_geom_bond_atom_site_label_2": "H20",
         "_ccdc_geom_bond_type": "S",
         "_deepnote_index_column": 48
        },
        {
         "_geom_bond_atom_site_label_1": "C38",
         "_geom_bond_atom_site_label_2": "H41",
         "_ccdc_geom_bond_type": "S",
         "_deepnote_index_column": 49
        },
        {
         "_geom_bond_atom_site_label_1": "O9",
         "_geom_bond_atom_site_label_2": "P8",
         "_ccdc_geom_bond_type": "S",
         "_deepnote_index_column": 50
        },
        {
         "_geom_bond_atom_site_label_1": "O5",
         "_geom_bond_atom_site_label_2": "P2",
         "_ccdc_geom_bond_type": "S",
         "_deepnote_index_column": 51
        },
        {
         "_geom_bond_atom_site_label_1": "Ba2",
         "_geom_bond_atom_site_label_2": "O19",
         "_ccdc_geom_bond_type": "S",
         "_deepnote_index_column": 52
        },
        {
         "_geom_bond_atom_site_label_1": "C41",
         "_geom_bond_atom_site_label_2": "H9",
         "_ccdc_geom_bond_type": "S",
         "_deepnote_index_column": 53
        },
        {
         "_geom_bond_atom_site_label_1": "Ba2",
         "_geom_bond_atom_site_label_2": "O24",
         "_ccdc_geom_bond_type": "S",
         "_deepnote_index_column": 54
        },
        {
         "_geom_bond_atom_site_label_1": "C4",
         "_geom_bond_atom_site_label_2": "C16",
         "_ccdc_geom_bond_type": "S",
         "_deepnote_index_column": 55
        },
        {
         "_geom_bond_atom_site_label_1": "O13",
         "_geom_bond_atom_site_label_2": "P1",
         "_ccdc_geom_bond_type": "S",
         "_deepnote_index_column": 56
        },
        {
         "_geom_bond_atom_site_label_1": "C41",
         "_geom_bond_atom_site_label_2": "H30",
         "_ccdc_geom_bond_type": "S",
         "_deepnote_index_column": 57
        },
        {
         "_geom_bond_atom_site_label_1": "C15",
         "_geom_bond_atom_site_label_2": "C44",
         "_ccdc_geom_bond_type": "A",
         "_deepnote_index_column": 58
        },
        {
         "_geom_bond_atom_site_label_1": "C10",
         "_geom_bond_atom_site_label_2": "C44",
         "_ccdc_geom_bond_type": "A",
         "_deepnote_index_column": 59
        },
        {
         "_geom_bond_atom_site_label_1": "C23",
         "_geom_bond_atom_site_label_2": "O7",
         "_ccdc_geom_bond_type": "S",
         "_deepnote_index_column": 60
        },
        {
         "_geom_bond_atom_site_label_1": "C38",
         "_geom_bond_atom_site_label_2": "H42",
         "_ccdc_geom_bond_type": "S",
         "_deepnote_index_column": 61
        },
        {
         "_geom_bond_atom_site_label_1": "C3",
         "_geom_bond_atom_site_label_2": "C5",
         "_ccdc_geom_bond_type": "A",
         "_deepnote_index_column": 62
        },
        {
         "_geom_bond_atom_site_label_1": "O16",
         "_geom_bond_atom_site_label_2": "P3",
         "_ccdc_geom_bond_type": "S",
         "_deepnote_index_column": 63
        },
        {
         "_geom_bond_atom_site_label_1": "O7",
         "_geom_bond_atom_site_label_2": "P7",
         "_ccdc_geom_bond_type": "S",
         "_deepnote_index_column": 64
        },
        {
         "_geom_bond_atom_site_label_1": "C36",
         "_geom_bond_atom_site_label_2": "H23",
         "_ccdc_geom_bond_type": "S",
         "_deepnote_index_column": 65
        },
        {
         "_geom_bond_atom_site_label_1": "C22",
         "_geom_bond_atom_site_label_2": "F7",
         "_ccdc_geom_bond_type": "S",
         "_deepnote_index_column": 66
        },
        {
         "_geom_bond_atom_site_label_1": "C43",
         "_geom_bond_atom_site_label_2": "H14",
         "_ccdc_geom_bond_type": "S",
         "_deepnote_index_column": 67
        },
        {
         "_geom_bond_atom_site_label_1": "O10",
         "_geom_bond_atom_site_label_2": "P6",
         "_ccdc_geom_bond_type": "S",
         "_deepnote_index_column": 68
        },
        {
         "_geom_bond_atom_site_label_1": "C4",
         "_geom_bond_atom_site_label_2": "H32",
         "_ccdc_geom_bond_type": "S",
         "_deepnote_index_column": 69
        },
        {
         "_geom_bond_atom_site_label_1": "C28",
         "_geom_bond_atom_site_label_2": "C35",
         "_ccdc_geom_bond_type": "S",
         "_deepnote_index_column": 70
        },
        {
         "_geom_bond_atom_site_label_1": "C24",
         "_geom_bond_atom_site_label_2": "P3",
         "_ccdc_geom_bond_type": "S",
         "_deepnote_index_column": 71
        },
        {
         "_geom_bond_atom_site_label_1": "C12",
         "_geom_bond_atom_site_label_2": "H21",
         "_ccdc_geom_bond_type": "S",
         "_deepnote_index_column": 72
        },
        {
         "_geom_bond_atom_site_label_1": "C2",
         "_geom_bond_atom_site_label_2": "C14",
         "_ccdc_geom_bond_type": "A",
         "_deepnote_index_column": 73
        },
        {
         "_geom_bond_atom_site_label_1": "C25",
         "_geom_bond_atom_site_label_2": "H31",
         "_ccdc_geom_bond_type": "S",
         "_deepnote_index_column": 74
        },
        {
         "_geom_bond_atom_site_label_1": "Ba1",
         "_geom_bond_atom_site_label_2": "P1",
         "_ccdc_geom_bond_type": "S",
         "_deepnote_index_column": 75
        },
        {
         "_geom_bond_atom_site_label_1": "C37",
         "_geom_bond_atom_site_label_2": "H39",
         "_ccdc_geom_bond_type": "S",
         "_deepnote_index_column": 76
        },
        {
         "_geom_bond_atom_site_label_1": "C9",
         "_geom_bond_atom_site_label_2": "C14",
         "_ccdc_geom_bond_type": "A",
         "_deepnote_index_column": 77
        },
        {
         "_geom_bond_atom_site_label_1": "C4",
         "_geom_bond_atom_site_label_2": "O18",
         "_ccdc_geom_bond_type": "S",
         "_deepnote_index_column": 78
        },
        {
         "_geom_bond_atom_site_label_1": "O11",
         "_geom_bond_atom_site_label_2": "P6",
         "_ccdc_geom_bond_type": "D",
         "_deepnote_index_column": 79
        },
        {
         "_geom_bond_atom_site_label_1": "C29",
         "_geom_bond_atom_site_label_2": "C30",
         "_ccdc_geom_bond_type": "A",
         "_deepnote_index_column": 80
        },
        {
         "_geom_bond_atom_site_label_1": "Ba2",
         "_geom_bond_atom_site_label_2": "O6",
         "_ccdc_geom_bond_type": "S",
         "_deepnote_index_column": 81
        },
        {
         "_geom_bond_atom_site_label_1": "C8",
         "_geom_bond_atom_site_label_2": "C17",
         "_ccdc_geom_bond_type": "A",
         "_deepnote_index_column": 82
        },
        {
         "_geom_bond_atom_site_label_1": "C9",
         "_geom_bond_atom_site_label_2": "C10",
         "_ccdc_geom_bond_type": "A",
         "_deepnote_index_column": 83
        },
        {
         "_geom_bond_atom_site_label_1": "C21",
         "_geom_bond_atom_site_label_2": "C32",
         "_ccdc_geom_bond_type": "S",
         "_deepnote_index_column": 84
        },
        {
         "_geom_bond_atom_site_label_1": "C39",
         "_geom_bond_atom_site_label_2": "H26",
         "_ccdc_geom_bond_type": "S",
         "_deepnote_index_column": 85
        },
        {
         "_geom_bond_atom_site_label_1": "C43",
         "_geom_bond_atom_site_label_2": "H13",
         "_ccdc_geom_bond_type": "S",
         "_deepnote_index_column": 86
        },
        {
         "_geom_bond_atom_site_label_1": "C31",
         "_geom_bond_atom_site_label_2": "C32",
         "_ccdc_geom_bond_type": "T",
         "_deepnote_index_column": 87
        },
        {
         "_geom_bond_atom_site_label_1": "C39",
         "_geom_bond_atom_site_label_2": "F1",
         "_ccdc_geom_bond_type": "S",
         "_deepnote_index_column": 88
        },
        {
         "_geom_bond_atom_site_label_1": "C4",
         "_geom_bond_atom_site_label_2": "F4",
         "_ccdc_geom_bond_type": "S",
         "_deepnote_index_column": 89
        },
        {
         "_geom_bond_atom_site_label_1": "C7",
         "_geom_bond_atom_site_label_2": "C9",
         "_ccdc_geom_bond_type": "A",
         "_deepnote_index_column": 90
        },
        {
         "_geom_bond_atom_site_label_1": "C37",
         "_geom_bond_atom_site_label_2": "H40",
         "_ccdc_geom_bond_type": "S",
         "_deepnote_index_column": 91
        },
        {
         "_geom_bond_atom_site_label_1": "C1",
         "_geom_bond_atom_site_label_2": "C12",
         "_ccdc_geom_bond_type": "S",
         "_deepnote_index_column": 92
        },
        {
         "_geom_bond_atom_site_label_1": "C2",
         "_geom_bond_atom_site_label_2": "C15",
         "_ccdc_geom_bond_type": "A",
         "_deepnote_index_column": 93
        },
        {
         "_geom_bond_atom_site_label_1": "Ba2",
         "_geom_bond_atom_site_label_2": "P4",
         "_ccdc_geom_bond_type": "S",
         "_deepnote_index_column": 94
        },
        {
         "_geom_bond_atom_site_label_1": "C38",
         "_geom_bond_atom_site_label_2": "C39",
         "_ccdc_geom_bond_type": "S",
         "_deepnote_index_column": 95
        },
        {
         "_geom_bond_atom_site_label_1": "O6",
         "_geom_bond_atom_site_label_2": "P7",
         "_ccdc_geom_bond_type": "D",
         "_deepnote_index_column": 96
        },
        {
         "_geom_bond_atom_site_label_1": "C11",
         "_geom_bond_atom_site_label_2": "C13",
         "_ccdc_geom_bond_type": "A",
         "_deepnote_index_column": 97
        },
        {
         "_geom_bond_atom_site_label_1": "C23",
         "_geom_bond_atom_site_label_2": "H27",
         "_ccdc_geom_bond_type": "S",
         "_deepnote_index_column": 98
        },
        {
         "_geom_bond_atom_site_label_1": "Ba1",
         "_geom_bond_atom_site_label_2": "O16",
         "_ccdc_geom_bond_type": "S",
         "_deepnote_index_column": 99
        },
        {
         "_geom_bond_atom_site_label_1": "O4",
         "_geom_bond_atom_site_label_2": "P1",
         "_ccdc_geom_bond_type": "S",
         "_deepnote_index_column": 100
        },
        {
         "_geom_bond_atom_site_label_1": "C40",
         "_geom_bond_atom_site_label_2": "O3",
         "_ccdc_geom_bond_type": "S",
         "_deepnote_index_column": 101
        },
        {
         "_geom_bond_atom_site_label_1": "C42",
         "_geom_bond_atom_site_label_2": "C43",
         "_ccdc_geom_bond_type": "S",
         "_deepnote_index_column": 102
        },
        {
         "_geom_bond_atom_site_label_1": "O1",
         "_geom_bond_atom_site_label_2": "P1",
         "_ccdc_geom_bond_type": "D",
         "_deepnote_index_column": 103
        },
        {
         "_geom_bond_atom_site_label_1": "C23",
         "_geom_bond_atom_site_label_2": "H3",
         "_ccdc_geom_bond_type": "S",
         "_deepnote_index_column": 104
        },
        {
         "_geom_bond_atom_site_label_1": "O19",
         "_geom_bond_atom_site_label_2": "P4",
         "_ccdc_geom_bond_type": "D",
         "_deepnote_index_column": 105
        },
        {
         "_geom_bond_atom_site_label_1": "Ba2",
         "_geom_bond_atom_site_label_2": "O23",
         "_ccdc_geom_bond_type": "S",
         "_deepnote_index_column": 106
        },
        {
         "_geom_bond_atom_site_label_1": "O8",
         "_geom_bond_atom_site_label_2": "P8",
         "_ccdc_geom_bond_type": "D",
         "_deepnote_index_column": 107
        },
        {
         "_geom_bond_atom_site_label_1": "C12",
         "_geom_bond_atom_site_label_2": "H2",
         "_ccdc_geom_bond_type": "S",
         "_deepnote_index_column": 108
        },
        {
         "_geom_bond_atom_site_label_1": "Ba1",
         "_geom_bond_atom_site_label_2": "O5",
         "_ccdc_geom_bond_type": "S",
         "_deepnote_index_column": 109
        },
        {
         "_geom_bond_atom_site_label_1": "C25",
         "_geom_bond_atom_site_label_2": "C30",
         "_ccdc_geom_bond_type": "A",
         "_deepnote_index_column": 110
        },
        {
         "_geom_bond_atom_site_label_1": "O23",
         "_geom_bond_atom_site_label_2": "P7",
         "_ccdc_geom_bond_type": "S",
         "_deepnote_index_column": 111
        },
        {
         "_geom_bond_atom_site_label_1": "C38",
         "_geom_bond_atom_site_label_2": "O12",
         "_ccdc_geom_bond_type": "S",
         "_deepnote_index_column": 112
        },
        {
         "_geom_bond_atom_site_label_1": "Ba2",
         "_geom_bond_atom_site_label_2": "O21",
         "_ccdc_geom_bond_type": "S",
         "_deepnote_index_column": 113
        },
        {
         "_geom_bond_atom_site_label_1": "C16",
         "_geom_bond_atom_site_label_2": "H6",
         "_ccdc_geom_bond_type": "S",
         "_deepnote_index_column": 114
        },
        {
         "_geom_bond_atom_site_label_1": "C3",
         "_geom_bond_atom_site_label_2": "C17",
         "_ccdc_geom_bond_type": "A",
         "_deepnote_index_column": 115
        },
        {
         "_geom_bond_atom_site_label_1": "C11",
         "_geom_bond_atom_site_label_2": "H16",
         "_ccdc_geom_bond_type": "S",
         "_deepnote_index_column": 116
        },
        {
         "_geom_bond_atom_site_label_1": "C28",
         "_geom_bond_atom_site_label_2": "F9",
         "_ccdc_geom_bond_type": "S",
         "_deepnote_index_column": 117
        },
        {
         "_geom_bond_atom_site_label_1": "C27",
         "_geom_bond_atom_site_label_2": "C33",
         "_ccdc_geom_bond_type": "A",
         "_deepnote_index_column": 118
        },
        {
         "_geom_bond_atom_site_label_1": "C17",
         "_geom_bond_atom_site_label_2": "P4",
         "_ccdc_geom_bond_type": "S",
         "_deepnote_index_column": 119
        },
        {
         "_geom_bond_atom_site_label_1": "O17",
         "_geom_bond_atom_site_label_2": "P3",
         "_ccdc_geom_bond_type": "D",
         "_deepnote_index_column": 120
        },
        {
         "_geom_bond_atom_site_label_1": "O18",
         "_geom_bond_atom_site_label_2": "P3",
         "_ccdc_geom_bond_type": "S",
         "_deepnote_index_column": 121
        },
        {
         "_geom_bond_atom_site_label_1": "C16",
         "_geom_bond_atom_site_label_2": "H37",
         "_ccdc_geom_bond_type": "S",
         "_deepnote_index_column": 122
        },
        {
         "_geom_bond_atom_site_label_1": "C30",
         "_geom_bond_atom_site_label_2": "C31",
         "_ccdc_geom_bond_type": "S",
         "_deepnote_index_column": 123
        },
        {
         "_geom_bond_atom_site_label_1": "C19",
         "_geom_bond_atom_site_label_2": "P2",
         "_ccdc_geom_bond_type": "S",
         "_deepnote_index_column": 124
        },
        {
         "_geom_bond_atom_site_label_1": "C27",
         "_geom_bond_atom_site_label_2": "P5",
         "_ccdc_geom_bond_type": "S",
         "_deepnote_index_column": 125
        },
        {
         "_geom_bond_atom_site_label_1": "Ba1",
         "_geom_bond_atom_site_label_2": "P2",
         "_ccdc_geom_bond_type": "S",
         "_deepnote_index_column": 126
        },
        {
         "_geom_bond_atom_site_label_1": "C27",
         "_geom_bond_atom_site_label_2": "C29",
         "_ccdc_geom_bond_type": "A",
         "_deepnote_index_column": 127
        },
        {
         "_geom_bond_atom_site_label_1": "C23",
         "_geom_bond_atom_site_label_2": "C34",
         "_ccdc_geom_bond_type": "S",
         "_deepnote_index_column": 128
        },
        {
         "_geom_bond_atom_site_label_1": "C1",
         "_geom_bond_atom_site_label_2": "H43",
         "_ccdc_geom_bond_type": "S",
         "_deepnote_index_column": 129
        },
        {
         "_geom_bond_atom_site_label_1": "O15",
         "_geom_bond_atom_site_label_2": "P2",
         "_ccdc_geom_bond_type": "D",
         "_deepnote_index_column": 130
        },
        {
         "_geom_bond_atom_site_label_1": "C28",
         "_geom_bond_atom_site_label_2": "O22",
         "_ccdc_geom_bond_type": "S",
         "_deepnote_index_column": 131
        },
        {
         "_geom_bond_atom_site_label_1": "Ba2",
         "_geom_bond_atom_site_label_2": "O5",
         "_ccdc_geom_bond_type": "S",
         "_deepnote_index_column": 132
        },
        {
         "_geom_bond_atom_site_label_1": "C34",
         "_geom_bond_atom_site_label_2": "H29",
         "_ccdc_geom_bond_type": "S",
         "_deepnote_index_column": 133
        },
        {
         "_geom_bond_atom_site_label_1": "C18",
         "_geom_bond_atom_site_label_2": "H33",
         "_ccdc_geom_bond_type": "S",
         "_deepnote_index_column": 134
        },
        {
         "_geom_bond_atom_site_label_1": "O3",
         "_geom_bond_atom_site_label_2": "P5",
         "_ccdc_geom_bond_type": "S",
         "_deepnote_index_column": 135
        },
        {
         "_geom_bond_atom_site_label_1": "Ba1",
         "_geom_bond_atom_site_label_2": "O20",
         "_ccdc_geom_bond_type": "S",
         "_deepnote_index_column": 136
        },
        {
         "_geom_bond_atom_site_label_1": "C29",
         "_geom_bond_atom_site_label_2": "F8",
         "_ccdc_geom_bond_type": "S",
         "_deepnote_index_column": 137
        },
        {
         "_geom_bond_atom_site_label_1": "C3",
         "_geom_bond_atom_site_label_2": "H18",
         "_ccdc_geom_bond_type": "S",
         "_deepnote_index_column": 138
        },
        {
         "_geom_bond_atom_site_label_1": "Ba1",
         "_geom_bond_atom_site_label_2": "O23",
         "_ccdc_geom_bond_type": "S",
         "_deepnote_index_column": 139
        },
        {
         "_geom_bond_atom_site_label_1": "O14",
         "_geom_bond_atom_site_label_2": "P6",
         "_ccdc_geom_bond_type": "S",
         "_deepnote_index_column": 140
        },
        {
         "_geom_bond_atom_site_label_1": "Ba1",
         "_geom_bond_atom_site_label_2": "O10",
         "_ccdc_geom_bond_type": "S",
         "_deepnote_index_column": 141
        },
        {
         "_geom_bond_atom_site_label_1": "C33",
         "_geom_bond_atom_site_label_2": "H35",
         "_ccdc_geom_bond_type": "S",
         "_deepnote_index_column": 142
        },
        {
         "_geom_bond_atom_site_label_1": "C13",
         "_geom_bond_atom_site_label_2": "H19",
         "_ccdc_geom_bond_type": "S",
         "_deepnote_index_column": 143
        },
        {
         "_geom_bond_atom_site_label_1": "C35",
         "_geom_bond_atom_site_label_2": "H22",
         "_ccdc_geom_bond_type": "S",
         "_deepnote_index_column": 144
        },
        {
         "_geom_bond_atom_site_label_1": "C18",
         "_geom_bond_atom_site_label_2": "C19",
         "_ccdc_geom_bond_type": "A",
         "_deepnote_index_column": 145
        },
        {
         "_geom_bond_atom_site_label_1": "C2",
         "_geom_bond_atom_site_label_2": "P1",
         "_ccdc_geom_bond_type": "S",
         "_deepnote_index_column": 146
        },
        {
         "_geom_bond_atom_site_label_1": "C40",
         "_geom_bond_atom_site_label_2": "C41",
         "_ccdc_geom_bond_type": "S",
         "_deepnote_index_column": 147
        },
        {
         "_geom_bond_atom_site_label_1": "C25",
         "_geom_bond_atom_site_label_2": "C26",
         "_ccdc_geom_bond_type": "A",
         "_deepnote_index_column": 148
        },
        {
         "_geom_bond_atom_site_label_1": "C20",
         "_geom_bond_atom_site_label_2": "C21",
         "_ccdc_geom_bond_type": "A",
         "_deepnote_index_column": 149
        },
        {
         "_geom_bond_atom_site_label_1": "O20",
         "_geom_bond_atom_site_label_2": "P4",
         "_ccdc_geom_bond_type": "S",
         "_deepnote_index_column": 150
        },
        {
         "_geom_bond_atom_site_label_1": "C36",
         "_geom_bond_atom_site_label_2": "O13",
         "_ccdc_geom_bond_type": "S",
         "_deepnote_index_column": 151
        },
        {
         "_geom_bond_atom_site_label_1": "Ba1",
         "_geom_bond_atom_site_label_2": "O4",
         "_ccdc_geom_bond_type": "S",
         "_deepnote_index_column": 152
        },
        {
         "_geom_bond_atom_site_label_1": "C37",
         "_geom_bond_atom_site_label_2": "H34",
         "_ccdc_geom_bond_type": "S",
         "_deepnote_index_column": 153
        }
       ],
       "rows_bottom": null
      },
      "text/plain": "0   _geom_bond_atom_site_label_1 _geom_bond_atom_site_label_2  \\\n3                             O2                           P5   \n4                            C42                          H11   \n5                            C14                          H17   \n6                            C34                           H4   \n7                            Ba1                           O1   \n..                           ...                          ...   \n149                          C20                          C21   \n150                          O20                           P4   \n151                          C36                          O13   \n152                          Ba1                           O4   \n153                          C37                          H34   \n\n0   _ccdc_geom_bond_type  \n3                      D  \n4                      S  \n5                      S  \n6                      S  \n7                      S  \n..                   ...  \n149                    A  \n150                    S  \n151                    S  \n152                    S  \n153                    S  \n\n[151 rows x 3 columns]",
      "text/html": "<div>\n<style scoped>\n    .dataframe tbody tr th:only-of-type {\n        vertical-align: middle;\n    }\n\n    .dataframe tbody tr th {\n        vertical-align: top;\n    }\n\n    .dataframe thead th {\n        text-align: right;\n    }\n</style>\n<table border=\"1\" class=\"dataframe\">\n  <thead>\n    <tr style=\"text-align: right;\">\n      <th></th>\n      <th>_geom_bond_atom_site_label_1</th>\n      <th>_geom_bond_atom_site_label_2</th>\n      <th>_ccdc_geom_bond_type</th>\n    </tr>\n  </thead>\n  <tbody>\n    <tr>\n      <th>3</th>\n      <td>O2</td>\n      <td>P5</td>\n      <td>D</td>\n    </tr>\n    <tr>\n      <th>4</th>\n      <td>C42</td>\n      <td>H11</td>\n      <td>S</td>\n    </tr>\n    <tr>\n      <th>5</th>\n      <td>C14</td>\n      <td>H17</td>\n      <td>S</td>\n    </tr>\n    <tr>\n      <th>6</th>\n      <td>C34</td>\n      <td>H4</td>\n      <td>S</td>\n    </tr>\n    <tr>\n      <th>7</th>\n      <td>Ba1</td>\n      <td>O1</td>\n      <td>S</td>\n    </tr>\n    <tr>\n      <th>...</th>\n      <td>...</td>\n      <td>...</td>\n      <td>...</td>\n    </tr>\n    <tr>\n      <th>149</th>\n      <td>C20</td>\n      <td>C21</td>\n      <td>A</td>\n    </tr>\n    <tr>\n      <th>150</th>\n      <td>O20</td>\n      <td>P4</td>\n      <td>S</td>\n    </tr>\n    <tr>\n      <th>151</th>\n      <td>C36</td>\n      <td>O13</td>\n      <td>S</td>\n    </tr>\n    <tr>\n      <th>152</th>\n      <td>Ba1</td>\n      <td>O4</td>\n      <td>S</td>\n    </tr>\n    <tr>\n      <th>153</th>\n      <td>C37</td>\n      <td>H34</td>\n      <td>S</td>\n    </tr>\n  </tbody>\n</table>\n<p>151 rows × 3 columns</p>\n</div>"
     },
     "metadata": {}
    }
   ],
   "execution_count": 30
  },
  {
   "cell_type": "markdown",
   "source": "# Reference",
   "metadata": {
    "tags": [],
    "is_collapsed": false,
    "cell_id": "00013-d3eca8c2-a120-47ec-8ee4-50bf7048d8fa",
    "deepnote_cell_type": "text-cell-h1"
   }
  },
  {
   "cell_type": "markdown",
   "source": "* https://refactoring.guru/design-patterns/python\n* https://tmlcc.cseathai.org/\n* https://www.iucr.org/resources/cif\n* https://www.geeksforgeeks.org/abstract-classes-in-python/",
   "metadata": {
    "tags": [],
    "cell_id": "00014-9f189e24-2f2b-43c9-afd0-2ac644776b64",
    "deepnote_cell_type": "markdown"
   }
  },
  {
   "cell_type": "markdown",
   "source": "# About me",
   "metadata": {
    "tags": [],
    "is_collapsed": false,
    "cell_id": "00032-31d3e606-4306-4d23-a9f8-f96f2bc1a943",
    "deepnote_cell_type": "text-cell-h1"
   }
  },
  {
   "cell_type": "markdown",
   "source": "ชื่อ เปรม aka `batprem` จบ Data Analytics จาก University of Sheffield ประเทศอังกฤษ ปัจจุบันเป็น Full stack data scientist ทำตั้งแต่สากกระเบือยันเรือรบ scrape ช้อมูล, ทำ pipeline, machine learning model\n<br/><br/>\nปัจจุบันเป็นเจ้าของเพจ [ข้อมูลกระตุกจิตกระช่ากใจเพื่อบรรลุ data scientist](https://www.facebook.com/Deangdata).\n\n\n<a href=\"https://www.linkedin.com/in/premchote\">\n    <img style=\"float: left\" alt=\"linkedIn\" src=\"https://static-exp1.licdn.com/sc/h/al2o9zrvru7aqj8e1x2rzsrca\"\n    width=50\" height=\"50\"></img>\n</a>\n<a href=\"https://www.kaggle.com/batprem\" class=\"inline-block\">\n    <img style=\"float: left\" alt=\"kaggle\" src=\"https://www.kaggle.com/static/images/favicon.ico\"\n    width=50\" height=\"50\"></img>\n</a>\n<a href=\"https://www.credential.net/fbb28b4b-f61a-4d21-9b96-5b7fba6b83cf#gs.cnor4e\" class=\"inline-block\">\n    <img style=\"float: left\" alt=\"kaggle\" src=\"https://s3.us-east-1.amazonaws.com/accredible-api-templates/15784284048332915386973343827272.png\"\n    width=50\" height=\"50\"></img>\n</a>\n<br/><br/><br/><br/>",
   "metadata": {
    "tags": [],
    "cell_id": "00033-759dfdea-7c41-4aef-80f7-c79fa877e42f",
    "deepnote_cell_type": "markdown"
   }
  },
  {
   "cell_type": "markdown",
   "source": "<a style='text-decoration:none;line-height:16px;display:flex;color:#5B5B62;padding:10px;justify-content:end;' href='https://deepnote.com?utm_source=created-in-deepnote-cell&projectId=a340163b-e04e-42b4-96b8-0f3c9760808a' target=\"_blank\">\n<img alt='Created in deepnote.com' style='display:inline;max-height:16px;margin:0px;margin-right:7.5px;' src='data:image/svg+xml;base64,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' > </img>\nCreated in <span style='font-weight:600;margin-left:4px;'>Deepnote</span></a>",
   "metadata": {
    "tags": [],
    "created_in_deepnote_cell": true,
    "deepnote_cell_type": "markdown"
   }
  }
 ],
 "nbformat": 4,
 "nbformat_minor": 2,
 "metadata": {
  "orig_nbformat": 2,
  "deepnote": {
   "is_reactive": false
  },
  "deepnote_notebook_id": "ece85386-71cf-4cd7-9328-34f252efd12e",
  "deepnote_execution_queue": []
 }
}