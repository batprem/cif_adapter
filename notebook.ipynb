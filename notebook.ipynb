{
 "cells": [
  {
   "cell_type": "markdown",
   "source": "# Greeting",
   "metadata": {
    "tags": [],
    "is_collapsed": false,
    "cell_id": "00000-59615542-f2eb-446e-b2d8-e29dde5fca2d",
    "deepnote_cell_type": "text-cell-h1"
   }
  },
  {
   "cell_type": "markdown",
   "source": "หลายคนที่เป็น Data Scientist มักจะไม่ค่อยใช้ Design pattern มากเท่าไหร่ เพราะ การทำ Design pattern ดูเหมือนจะเรื่องของ Software engineer และจำเป็นต้องมีความเข้าใจเรื่อง OOP เลยทำให้เหมือนมีความซับซ้อนระดับหนึ่ง\n<br/><br/>\nแต่จากประสบการณ์การเป็น Data Scientist เกือบสองปี การเสียเวลาทำ Design pattern สักนิด ไม่เพียงแต่จะให้ code ของคุณดูโปรมากขึ้นแล้ว แต่ยังเป็นการลดความขัดแย้งกันระหว่างทีมอื่น เช่น Python devoloper, Data engineer, DevOps หรือ แม้แต่ตัวคุณเองใ่นอนาคตด้วย ซึ่งใน blog นี้จะสาธิตวิธีการใช้ design pattern ที่ชื่อว่า Adapter มาจัดการไฟล์ Crystal Information Framework (CIF) จากการแข่ง TMLCC กันครับ",
   "metadata": {
    "tags": [],
    "cell_id": "00001-d4edfa47-6fd0-427b-9b1e-1b6425e65229",
    "deepnote_cell_type": "markdown"
   }
  },
  {
   "cell_type": "markdown",
   "source": "# Adapter",
   "metadata": {
    "tags": [],
    "is_collapsed": false,
    "cell_id": "00002-b694b1f8-18bb-4d6b-8c64-7d6ee67ae045",
    "deepnote_cell_type": "text-cell-h1"
   }
  },
  {
   "cell_type": "markdown",
   "source": "<center>\n<img src=\"/work/assets/images/adapter-mini-2x.png\"></img>\nรูปจาก https://refactoring.guru/design-patterns/python\n<center>\n",
   "metadata": {
    "tags": [],
    "cell_id": "00003-dc1f2d88-b274-4c21-85be-d9181c2fe00d",
    "deepnote_cell_type": "markdown"
   }
  },
  {
   "cell_type": "markdown",
   "source": "# Import module",
   "metadata": {
    "tags": [],
    "is_collapsed": false,
    "cell_id": "00000-68cf1edf-b305-42ea-a6c9-2de073fbbc96",
    "deepnote_cell_type": "text-cell-h1"
   }
  },
  {
   "cell_type": "code",
   "source": "import os\nimport pandas as pd\nfrom typing import List\nfrom abc import (\n    ABC,\n    abstractmethod\n)",
   "metadata": {
    "tags": [],
    "cell_id": "00000-7255a9cf-6817-42a0-af7a-e56da8cf92a9",
    "deepnote_cell_type": "code"
   },
   "outputs": [],
   "execution_count": null
  },
  {
   "cell_type": "code",
   "metadata": {
    "tags": [],
    "cell_id": "00000-18f4bb35-5117-438a-af3d-cb677d6fe133",
    "deepnote_cell_type": "code"
   },
   "source": "import os\nimport pandas as pd\nfrom typing import List\nfrom abc import (\n    ABC,\n    abstractmethod\n)\n\n\nclass CIF2PandasAdapter:\n    \"\"\"\n    An adapter to convert CIF into Pandas DataFrames\n    \"\"\"\n    @staticmethod\n    def load_cif(cif_filepath: str) -> List[str]:\n        \"\"\"\n        Read CIF file as String and split looping sections\n        \"\"\"\n        with open(cif_filepath) as f:\n            filename = f.readline().strip()\n            dataframes = []\n            dataframe = []\n            for line in f.readlines():\n                columns = [\n                    l.strip() for l in line.strip().split(\" \") if l and (l != '')\n                ]\n                if columns:\n                    if columns[0] == 'loop_':\n                        dataframes.append(dataframe)\n                        dataframe = []\n                    else:\n                        if 'fapswitch' not in columns and columns != ['']:\n                            dataframe.append(columns)\n            dataframes.append(dataframe)\n\n        return dataframes\n\n    @staticmethod\n    def get_metadata(dataframes: List[List[str]]) -> pd.DataFrame:\n        \"\"\"\n        Get metadata of a CIF file\n        \"\"\"\n        return pd.DataFrame(dataframes[0])\n\n    @staticmethod\n    def get_loops(dataframes: List[List[str]]) -> List[pd.DataFrame]:\n        \"\"\"\n        Get loops\n        \"\"\"\n        loops = []\n        for dataframe in dataframes[1:]:\n            loop = pd.DataFrame(dataframe)\n            loop_fixed = loop[loop[1].notna()]\n            loop_fixed.columns = loop[loop[1].isna()][0]\n            loops.append(loop_fixed.to_dict())\n\n        return loops\n    \n    def apply(self, cif_filepath: str) -> List[pd.DataFrame]:\n            \"\"\"\n            Apply ETL pipeline\n            \"\"\"\n            # Extract\n            cif_list = self.load_cif(cif_filepath)\n\n            # Transform\n            metadata = self.get_metadata(cif_list)\n            extract_loops = self.get_loops(cif_list)\n            xyz = pd.DataFrame(extract_loops[0])[['_atom_site_fract_x', '_atom_site_fract_y', '_atom_site_fract_z']]\n            convex_hull = ConvexHull(xyz)\n\n            metadata.at[11, 0] = 'mof_convex_hull_area'\n            metadata.at[11, 1] = convex_hull.area\n\n            metadata.at[12, 0] = 'mof_convex_hull_volume'\n            metadata.at[12, 1] = convex_hull.volume\n\n            metadata.at[13, 0] = 'mof_convex_hull_npoints'\n            metadata.at[13, 1] = convex_hull.npoints\n  \n            metadata.at[14, 0] = 'mof_convex_hull_nsimplex'\n            metadata.at[14, 1] = convex_hull.nsimplex\n            \n            # Load\n            return {\n                \"metadata\": metadata.to_dict(),\n                \"loops\": extract_loops\n            }",
   "execution_count": null,
   "outputs": []
  },
  {
   "cell_type": "markdown",
   "source": "<a style='text-decoration:none;line-height:16px;display:flex;color:#5B5B62;padding:10px;justify-content:end;' href='https://deepnote.com?utm_source=created-in-deepnote-cell&projectId=a340163b-e04e-42b4-96b8-0f3c9760808a' target=\"_blank\">\n<img alt='Created in deepnote.com' style='display:inline;max-height:16px;margin:0px;margin-right:7.5px;' src='data:image/svg+xml;base64,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' > </img>\nCreated in <span style='font-weight:600;margin-left:4px;'>Deepnote</span></a>",
   "metadata": {
    "tags": [],
    "created_in_deepnote_cell": true,
    "deepnote_cell_type": "markdown"
   }
  }
 ],
 "nbformat": 4,
 "nbformat_minor": 2,
 "metadata": {
  "orig_nbformat": 2,
  "deepnote": {
   "is_reactive": false
  },
  "deepnote_notebook_id": "ece85386-71cf-4cd7-9328-34f252efd12e",
  "deepnote_execution_queue": []
 }
}